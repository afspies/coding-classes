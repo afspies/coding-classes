{
 "cells": [
  {
   "cell_type": "markdown",
   "metadata": {},
   "source": [
    "# Intro Coding Classes\n",
    "\n",
    "Welcome to our first coding classes for beginners.\n",
    "\n",
    "This course is aimed at all non-CS students who are looking to for an introduction to programming.\n",
    "\n",
    "We'll be starting from absolute beginnings, so no prior knowledge is required - just a willingness to learn.\n",
    "\n",
    "This is the first time we have run this, so please do let us know if you are finding the classes too fast or too slow, or if you have any general comments."
   ]
  },
  {
   "cell_type": "markdown",
   "metadata": {},
   "source": [
    "## Class Logistics\n",
    "\n",
    "We ask that you bring your own laptop to our classes, or possibly share with a friend. This makes it easier for us to run the sessions, and lets you can keep all of your work in one place.\n",
    "\n",
    "We will be teaching this class in Python, you can go to https://www.python.org/downloads/ to download and install Python.\n",
    "\n",
    "If you are having trouble installing or you just forgot to install the required tools, you can use this [online tool](https://py3.codeskulptor.org) to follow along.\n",
    "\n",
    "We will hang around at the end of the session for anyone having issues installing Python on their own device.\n",
    "\n",
    "The slides and examples will be available online [here](https://github.com/hacksoc-manchester/coding-classes)."
   ]
  },
  {
   "cell_type": "markdown",
   "metadata": {},
   "source": [
    "## Chapter 1 - Introduction\n",
    "\n",
    "* Programming is the art of telling a computer what to do.\n",
    "* Programming languages let us speak to a computer and give it instructions without learning its specific language.\n",
    "* There are various mechanisms for translating programming language to the computer.\n",
    "* Python is what is known as an interpreted language.\n",
    "* a Python program must be run by the Python interpreter - which acts as a translater.\n",
    "* To run a Python program, open the program file in IDLE and click Run -> Run Module.\n",
    "* Those using jupyter can use the shortcut Shift+Enter in a cell to execute the code.\n",
    "\n",
    "### Why Python?\n",
    "\n",
    "- Extremely beginner friendly. Code reads almost like English.\n",
    "- Extremely well documented.\n",
    "- Huge community, which means that there is likely a Python library for anything you might want to do. We shall talk more about this later on during the series.\n",
    "- Widely used for scientific computing"
   ]
  },
  {
   "cell_type": "markdown",
   "metadata": {},
   "source": [
    "### Exercise 1\n",
    "Run Python IDLE and create a new file (name it whatever you want), File -> New File, then type out the hello world program:"
   ]
  },
  {
   "cell_type": "code",
   "execution_count": null,
   "metadata": {},
   "outputs": [],
   "source": [
    "print(\"Hello World\")"
   ]
  },
  {
   "cell_type": "markdown",
   "metadata": {},
   "source": [
    "Then run the program as described above. Those of you using the web version, write the program into the area on the right (it may already be there), and click execute."
   ]
  },
  {
   "cell_type": "markdown",
   "metadata": {},
   "source": [
    "Congratulations, you have now run your first program!"
   ]
  },
  {
   "cell_type": "markdown",
   "metadata": {},
   "source": [
    "## Chapter 2 - Doing and Storing Things\n",
    "### Statements\n",
    "* The most basic element in a program is the statement.\n",
    "* A statement is a single instruction to do something.\n",
    "* In Python each line is a single statement.\n",
    "* Programs are simply long lists of statements.\n",
    "\n",
    "\n",
    "\n",
    "### Comments\n",
    "* Sometimes when we are writing program we want to write things that are ignored when the program is run.\n",
    "* We use the **#** character to mark the rest of the line as a comment.\n",
    "* A paragraph of comments can be added by using the characters **''' '''** or **\"\"\" \"\"\"**.\n",
    "* Comments are useful for explaining code to your future self and other developers.\n",
    "* Thorough commenting is generally considered good practice."
   ]
  },
  {
   "cell_type": "code",
   "execution_count": 13,
   "metadata": {},
   "outputs": [
    {
     "name": "stdout",
     "output_type": "stream",
     "text": [
      " Python was a language for you and for me\n",
      "    It was simple and clean, but slow we agree.\n",
      "    But that was ok,\n",
      "    We loved it anyway.\n",
      "    Until it went from version 2 to version 3.\n"
     ]
    }
   ],
   "source": [
    "# I am single line comment\n",
    "# Limerick taken from - https://medium.freecodecamp.org/programming-language-limericks-a8fb3416e0e4\n",
    "\n",
    "''' The function below is used to output a limerick \n",
    "about Python'''\n",
    "\n",
    "def test_function():\n",
    "    print (\"\"\" Python was a language for you and for me\n",
    "    It was simple and clean, but slow we agree.\n",
    "    But that was ok,\n",
    "    We loved it anyway.\n",
    "    Until it went from version 2 to version 3.\"\"\")\n",
    "test_function()"
   ]
  },
  {
   "cell_type": "markdown",
   "metadata": {},
   "source": [
    "### Literals\n",
    "* Sometimes we want our program to contain values.\n",
    "* Values written into a program are known as literals.\n",
    "* Literals can be a range of different types, such as text or numbers.\n",
    "* Text to be used by a program is represented as a string.\n",
    "* Strings are denoted using \"\" or ''.\n",
    "* Our hello world program from before is an example of using a string literal.\n",
    "* Within strings we can represent special characters as below:\n",
    "\n",
    "Escape sequence | Meaning\n",
    "------------ | -------------\n",
    "\\n | New line\n",
    "\\\\ | Back slash\n",
    "\\' | Single quote\n",
    "\\\" | Double quote\n",
    "\\t | Tab\n",
    "\n"
   ]
  },
  {
   "cell_type": "markdown",
   "metadata": {},
   "source": [
    "### Exercise 2\n",
    "\n",
    "Take the hello world program from before and add some extra print statements to it and customise the text it prints out. What do you notice about each print statement? Then add some comments to say who made the program and what it does."
   ]
  },
  {
   "cell_type": "markdown",
   "metadata": {},
   "source": [
    "* There are three main types of literal:\n",
    "    * String - denoted using \"\"\n",
    "    * Integer (written as int) - denoted as any whole number\n",
    "    * Float - denoted as a decimal number\n",
    "* Python distinguishes between integers and floats when it comes across literals - bear this in mind, it is a common source of bugs."
   ]
  },
  {
   "cell_type": "code",
   "execution_count": 15,
   "metadata": {},
   "outputs": [],
   "source": [
    "string_literal = \"The name is literal...string literal\"\n",
    "taxi = 1729\n",
    "pi = 3.14"
   ]
  },
  {
   "cell_type": "markdown",
   "metadata": {},
   "source": [
    "### Operators\n",
    "* So far we have a program that writes to the output, not very useful on its own.\n",
    "* Operators are used to tell the program to do something with some input.\n",
    "* Operators include things like add and subtract.\n",
    "* Different operators have different levels of precedence.\n",
    "* Rather than learn the precedence order, we advise using parentheses to explicitly state the order of operations.\n",
    "* Operators are split into a few different types, for now we are just going to look at arithmetic and bitwise operators."
   ]
  },
  {
   "cell_type": "markdown",
   "metadata": {},
   "source": [
    "#### Tangent - Bits\n",
    "* Numbers in computer are represented as a series of bits.\n",
    "* Each bit can hold a value of 1 or 0.\n",
    "* This forms a base two numbering system.\n",
    "* Bitwise operators act on the string of bits rather than the value they represent."
   ]
  },
  {
   "cell_type": "markdown",
   "metadata": {},
   "source": [
    " "
   ]
  },
  {
   "cell_type": "markdown",
   "metadata": {},
   "source": [
    "### Example 1"
   ]
  },
  {
   "cell_type": "code",
   "execution_count": null,
   "metadata": {},
   "outputs": [],
   "source": [
    "print(1 + 2 * 4)\n",
    "print((1 + 2) * 4)"
   ]
  },
  {
   "cell_type": "markdown",
   "metadata": {},
   "source": [
    "### Variables\n",
    "\n",
    "### Chapter Recap"
   ]
  },
  {
   "cell_type": "markdown",
   "metadata": {},
   "source": [
    "## Chapter 3 - Controlling Things\n",
    "### Conditions\n",
    "\n",
    "### Loops"
   ]
  }
 ],
 "metadata": {
  "kernelspec": {
   "display_name": "Python 3",
   "language": "python",
   "name": "python3"
  },
  "language_info": {
   "codemirror_mode": {
    "name": "ipython",
    "version": 3
   },
   "file_extension": ".py",
   "mimetype": "text/x-python",
   "name": "python",
   "nbconvert_exporter": "python",
   "pygments_lexer": "ipython3",
   "version": "3.6.5"
  }
 },
 "nbformat": 4,
 "nbformat_minor": 2
}
