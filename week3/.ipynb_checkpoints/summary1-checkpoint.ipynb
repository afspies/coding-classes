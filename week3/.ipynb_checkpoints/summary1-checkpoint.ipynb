{
 "cells": [
  {
   "cell_type": "markdown",
   "metadata": {},
   "source": [
    "# Python Classes Summary 1\n",
    "## Comments\n",
    "Comments are started with hashtag (#) symbols and cause following text on the same line to be ignored by python.\n",
    "This allows the programmer to add explanations / notes to their code such that other programmers can understand it more easily. (Comments also serve as useful reminders for the programmers themselves)"
   ]
  },
  {
   "cell_type": "code",
   "execution_count": 13,
   "metadata": {},
   "outputs": [],
   "source": [
    "# Hashtags denote comments - These are ignored by python\n",
    "# It is good practice to use comments to explain what the code is doing"
   ]
  },
  {
   "cell_type": "markdown",
   "metadata": {},
   "source": [
    "## Taking user input\n",
    "\n",
    "Sometimes we want the user to give us some information, which we then use somehow in our code. Luckily, python has a built in *function* (aka method) which easily allows us to do this:"
   ]
  },
  {
   "cell_type": "code",
   "execution_count": 14,
   "metadata": {},
   "outputs": [
    {
     "name": "stdout",
     "output_type": "stream",
     "text": [
      "Hi! What is your name? Alex\n",
      "Nice to meet you Alex - Looking good! ;)\n"
     ]
    }
   ],
   "source": [
    "# This code will compliment our human user\n",
    "\n",
    "name_of_user = input(\"Hi! What is your name? \") # Get user input\n",
    "output_string = \"Nice to meet you \" + name_of_user + \" - Looking good! ;)\"\n",
    "print(output_string) # Print our compliment string"
   ]
  },
  {
   "cell_type": "markdown",
   "metadata": {},
   "source": [
    "## Logic\n",
    "Mathematical logic essentially allows us to compare things in a well-defined, consistent way. The ability to do this is essential for allowing us to build useful computer programmes. The types of comparison operations that we can perform in python are outlines in the following table:"
   ]
  },
  {
   "cell_type": "markdown",
   "metadata": {},
   "source": [
    "operator | Description | Example | Output\n",
    "------------ | ------------- | ------------- | -------------\n",
    "< | less than | 5 < 8 | False\n",
    "> | greater than | 4.3 > 2 | True\n",
    "== | equals| \"Hello\" == \"there\" | False\n",
    "<= | less than or equal to | 5 <= 5 | True\n",
    ">= | greater than or equal to | 8 >= 110 | False\n",
    "!= | not equal | \"General\" != \"Kenobi\" | True"
   ]
  },
  {
   "cell_type": "code",
   "execution_count": 7,
   "metadata": {},
   "outputs": [
    {
     "name": "stdout",
     "output_type": "stream",
     "text": [
      "False\n"
     ]
    }
   ],
   "source": [
    "# An example of using logic\n",
    "\n",
    "is_this_true = 3 > 10 # Let us see if 3 is > 10; The result should be false\n",
    "print(is_this_true) # Print out the result, hopefully it will say false"
   ]
  },
  {
   "cell_type": "markdown",
   "metadata": {},
   "source": [
    "## Control \n",
    "Even with just these few logical comparisons, we can get our code to perform arbitrarily complex tasks. There are numerous ways of using logic in python, but so far we've only covered \n",
    "### If statements\n",
    "If statements execute code provided that the specified condition is satisfied"
   ]
  },
  {
   "cell_type": "code",
   "execution_count": 15,
   "metadata": {},
   "outputs": [
    {
     "name": "stdout",
     "output_type": "stream",
     "text": [
      "What is 7 + 3? 10\n",
      "Check you out!\n"
     ]
    }
   ],
   "source": [
    "# Example of simple if-else\n",
    "\n",
    "user_answer = int(input(\"What is 7 + 3? \")) # NOTE convert string to int\n",
    "\n",
    "if (user_answer == 10):\n",
    "    print(\"Check you out!\") \n",
    "else: # Catch all inputs which aren't 10\n",
    "    print(\"Happens to the best of us\") # Lie to the user\n"
   ]
  },
  {
   "cell_type": "markdown",
   "metadata": {},
   "source": [
    "In the script above, we used an \"if-else\" statement, but in some cases we might want to multiple possible specific answers differently. For this we can use \"elif\" (short for else if) :"
   ]
  },
  {
   "cell_type": "code",
   "execution_count": 19,
   "metadata": {},
   "outputs": [
    {
     "name": "stdout",
     "output_type": "stream",
     "text": [
      "Ad omnes Ave Caesar\n"
     ]
    }
   ],
   "source": [
    "# Example of if statement with else-if\n",
    "\n",
    "user_name = \"Augustus\" # We don't need humans!\n",
    "\n",
    "if (user_name == \"Alex\"):\n",
    "    print(\"I've been expecting you...\")\n",
    "elif (user_name == \"Augustus\"):\n",
    "    print(\"Ad omnes Ave Caesar\")\n",
    "else:\n",
    "    print(\"Nice to meet you \" + user_name)"
   ]
  },
  {
   "cell_type": "markdown",
   "metadata": {},
   "source": [
    "### Extra Fun\n",
    "There are many ways we can improve our handling of user inputs:"
   ]
  },
  {
   "cell_type": "code",
   "execution_count": 1,
   "metadata": {},
   "outputs": [
    {
     "name": "stdout",
     "output_type": "stream",
     "text": [
      "What's your name? Zebra-man\n",
      "Funky name!\n"
     ]
    }
   ],
   "source": [
    "user_name = input(\"What's your name? \")\n",
    "user_name = user_name.lower() # Make the string lowercase\n",
    "# Note, we just overwrote the variable!\n",
    "\n",
    "if (user_name in ['alex', 'luke']): # Can check multiple cases in one\n",
    "    print(\"Your Majesty...\")\n",
    "elif (\"z\" in user_name): # Can check if a substring is in the name!\n",
    "    print(\"Funky name!\")\n",
    "else:\n",
    "    print(\"Heyo\")"
   ]
  }
 ],
 "metadata": {
  "kernelspec": {
   "display_name": "Python 3",
   "language": "python",
   "name": "python3"
  },
  "language_info": {
   "codemirror_mode": {
    "name": "ipython",
    "version": 3
   },
   "file_extension": ".py",
   "mimetype": "text/x-python",
   "name": "python",
   "nbconvert_exporter": "python",
   "pygments_lexer": "ipython3",
   "version": "3.6.6"
  }
 },
 "nbformat": 4,
 "nbformat_minor": 2
}
