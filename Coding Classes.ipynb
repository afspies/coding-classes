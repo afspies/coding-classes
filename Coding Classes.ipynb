{
 "cells": [
  {
   "cell_type": "markdown",
   "metadata": {
    "slideshow": {
     "slide_type": "slide"
    }
   },
   "source": [
    "# Intro Coding Classes\n",
    "\n",
    "Welcome to our first coding classes for beginners.\n",
    "\n",
    "This course is aimed at all non-CS students who are looking to for an introduction to programming.\n",
    "\n",
    "We'll be starting from absolute beginnings, so no prior knowledge is required - just a willingness to learn.\n",
    "\n",
    "This is the first time we have run this, so please do let us know if you are finding the classes too fast or too slow, or if you have any general comments."
   ]
  },
  {
   "cell_type": "markdown",
   "metadata": {
    "slideshow": {
     "slide_type": "slide"
    }
   },
   "source": [
    "## Class Logistics\n",
    "\n",
    "We ask that you bring your own laptop to our classes, or possibly share with a friend. This makes it easier for us to run the sessions, and lets you can keep all of your work in one place.\n",
    "\n",
    "We will be teaching this class in Python, you can go to https://www.python.org/downloads/ to download and install Python.\n",
    "\n",
    "If you haven't already installed python then for todays session please go to https://www.tutorialspoint.com/execute_python3_online.php to complete the exercises and run your code.\n",
    "\n",
    "We will hang around at the end of the session for anyone having issues installing Python on their own device.\n",
    "\n",
    "The slides and examples will be available online at https://github.com/hacksoc-manchester/coding-classes."
   ]
  },
  {
   "cell_type": "markdown",
   "metadata": {
    "slideshow": {
     "slide_type": "slide"
    }
   },
   "source": [
    "## Chapter 1 - Introduction\n",
    "\n",
    "* Programming is the art of telling a computer what to do.\n",
    "* Programming languages let us speak to a computer and give it instructions without learning its specific language.\n",
    "* There are various mechanisms for translating programming language to the computer language.\n",
    "* When you write in any programming language it needs to be translated for the computer to understand.\n",
    "* In Python the translater is known as an interpreter, hence Python is an interpreted language."
   ]
  },
  {
   "cell_type": "markdown",
   "metadata": {
    "slideshow": {
     "slide_type": "slide"
    }
   },
   "source": [
    "* A plain text document is one which has no formatting, e.g. notepad.\n",
    "* Word documents are formatted so can't be used for writing code.\n",
    "* Code must be written to plain text documents.\n",
    "* IDLE is an editor commonly used for creating Python programs.\n",
    "* IDLE has a built in interpreter (translater) so you can write and run in the same place.\n",
    "* To run a Python program, open the program file in IDLE and click Run -> Run Module."
   ]
  },
  {
   "cell_type": "markdown",
   "metadata": {
    "slideshow": {
     "slide_type": "slide"
    }
   },
   "source": [
    "### Why Python?\n",
    "* Extremely beginner friendly. Code reads almost like English.\n",
    "* Extremely well documented.\n",
    "* Huge community, which means that there is likely Python code for anything you might want to do. More on this later.\n",
    "* Widely used for scientific computing"
   ]
  },
  {
   "cell_type": "markdown",
   "metadata": {
    "slideshow": {
     "slide_type": "slide"
    }
   },
   "source": [
    "### Exercise 1\n",
    "Run Python IDLE and create a new file (name it whatever you want), File -> New File, then type out the hello world program:"
   ]
  },
  {
   "cell_type": "code",
   "execution_count": null,
   "metadata": {
    "slideshow": {
     "slide_type": "fragment"
    }
   },
   "outputs": [],
   "source": [
    "print(\"Hello World\")"
   ]
  },
  {
   "cell_type": "markdown",
   "metadata": {
    "slideshow": {
     "slide_type": "fragment"
    }
   },
   "source": [
    "Then run the program as described above. Those of you using the web version, write the program into the area on the right (it may already be there), and click execute."
   ]
  },
  {
   "cell_type": "markdown",
   "metadata": {
    "slideshow": {
     "slide_type": "slide"
    }
   },
   "source": [
    "Congratulations, you have now run your first program!"
   ]
  },
  {
   "cell_type": "markdown",
   "metadata": {
    "slideshow": {
     "slide_type": "slide"
    }
   },
   "source": [
    "## Chapter 2 - Doing and Storing Things\n",
    "### Statements\n",
    "* The most basic element in a program is the statement.\n",
    "* A statement is a single instruction to do something.\n",
    "* In Python each line is a single statement.\n",
    "* The hello world program contains a single print statement, which prints the given value to the output.\n",
    "* Programs are simply long lists of statements."
   ]
  },
  {
   "cell_type": "markdown",
   "metadata": {
    "slideshow": {
     "slide_type": "slide"
    }
   },
   "source": [
    "### Comments\n",
    "* Sometimes when we are writing program we want to write things that are ignored by the computer, these are called comments.\n",
    "* We use the # to mark something as a comment.\n",
    "* End a comment with a new line.\n",
    "* For multi-line comments, use ''' to mark the start and end of the comment.\n",
    "* Comments are useful for explaining code to your future self and other people.\n",
    "* Thorough commenting is generally considered good practice."
   ]
  },
  {
   "cell_type": "code",
   "execution_count": 3,
   "metadata": {
    "scrolled": true,
    "slideshow": {
     "slide_type": "slide"
    }
   },
   "outputs": [
    {
     "name": "stdout",
     "output_type": "stream",
     "text": [
      "Python was a language for you and for me\n",
      "It was simple and clean, but slow we agree.\n",
      "But that was ok,\n",
      "We loved it anyway.\n",
      "Until it went from version 2 to version 3.\n"
     ]
    }
   ],
   "source": [
    "# I am single line comment\n",
    "# Limerick taken from - https://medium.freecodecamp.org/programming-language-limericks-a8fb3416e0e4\n",
    "\n",
    "''' The code below is used to output a limerick \n",
    "about Python'''\n",
    "\n",
    "print (\"\"\"Python was a language for you and for me\n",
    "It was simple and clean, but slow we agree.\n",
    "But that was ok,\n",
    "We loved it anyway.\n",
    "Until it went from version 2 to version 3.\"\"\")"
   ]
  },
  {
   "cell_type": "markdown",
   "metadata": {
    "slideshow": {
     "slide_type": "slide"
    }
   },
   "source": [
    "### Literals\n",
    "* Sometimes we want our program to contain values, such as numbers, words and sentences.\n",
    "* These values are known as literals.\n",
    "* The hello world program contains the sentence \"Hello World\", sentences/words are known as a strings.\n",
    "* Strings are denoted using \"\" or ''."
   ]
  },
  {
   "cell_type": "markdown",
   "metadata": {
    "slideshow": {
     "slide_type": "slide"
    }
   },
   "source": [
    "* Within strings we can represent special characters as below:\n",
    "\n",
    "Escape sequence | Meaning\n",
    "------------ | -------------\n",
    "\\n | New line\n",
    "\\\\\\ | Back slash\n",
    "\\\\' | Single quote\n",
    "\\\\\" | Double quote\n",
    "\\\\t | Tab"
   ]
  },
  {
   "cell_type": "markdown",
   "metadata": {
    "slideshow": {
     "slide_type": "slide"
    }
   },
   "source": [
    "* We can also have numbers in our programs.\n",
    "* There are two types - integers (whole numbers) and floats (decimal numbers).\n",
    "* You may see 'integer' written as 'int'.\n",
    "* Integer and floats do not need to be within quotes.\n",
    "* We can give names to literals using =."
   ]
  },
  {
   "cell_type": "code",
   "execution_count": 4,
   "metadata": {
    "slideshow": {
     "slide_type": "fragment"
    }
   },
   "outputs": [],
   "source": [
    "string_literal = \"The name is literal...string literal\"\n",
    "taxi = 1729\n",
    "pi = 3.14"
   ]
  },
  {
   "cell_type": "markdown",
   "metadata": {
    "slideshow": {
     "slide_type": "slide"
    }
   },
   "source": [
    "### Exercise 2\n",
    "\n",
    "Take the hello world program from before and add some extra print statements to it and customise the text it prints out. What do you notice about each print statement? Then add some comments to say who made the program and what it does."
   ]
  },
  {
   "cell_type": "markdown",
   "metadata": {
    "slideshow": {
     "slide_type": "slide"
    }
   },
   "source": [
    "* To reacp - there are three main types of literal:\n",
    "    * String - denoted using \"\"\n",
    "    * Integer (written as int) - denoted as any whole number\n",
    "    * Float - denoted as a decimal number"
   ]
  },
  {
   "cell_type": "markdown",
   "metadata": {
    "slideshow": {
     "slide_type": "slide"
    }
   },
   "source": [
    "### Operators\n",
    "* So far we have a program that writes values to the output, not very useful on its own.\n",
    "* Operators are used to tell the program to do something with some values.\n",
    "* Operators include things like add and subtract."
   ]
  },
  {
   "cell_type": "markdown",
   "metadata": {
    "slideshow": {
     "slide_type": "slide"
    }
   },
   "source": [
    "* When a value is in between two operators, there are rules for which operator is used first.\n",
    "* These rules are known as rules of precedence."
   ]
  },
  {
   "cell_type": "markdown",
   "metadata": {
    "slideshow": {
     "slide_type": "slide"
    }
   },
   "source": [
    "* Rules of precedence give an order of priority to operators.\n",
    "* High priority operators are used first, then lower priority operators."
   ]
  },
  {
   "cell_type": "code",
   "execution_count": null,
   "metadata": {},
   "outputs": [],
   "source": [
    "print(1 + 2 * 4)"
   ]
  },
  {
   "cell_type": "markdown",
   "metadata": {
    "slideshow": {
     "slide_type": "slide"
    }
   },
   "source": [
    "* For example, multiplication takes precedence over addition.\n",
    "* Where operators have equal priority, then the left one is used first.\n",
    "* Rather than learn the precedence order, you can use brackets to control the order of operations."
   ]
  },
  {
   "cell_type": "markdown",
   "metadata": {
    "slideshow": {
     "slide_type": "slide"
    }
   },
   "source": [
    "* Operators are split into a few different types, for now we are just going to look at arithmetic and string operators."
   ]
  },
  {
   "cell_type": "code",
   "execution_count": 6,
   "metadata": {
    "slideshow": {
     "slide_type": "fragment"
    }
   },
   "outputs": [
    {
     "name": "stdout",
     "output_type": "stream",
     "text": [
      "9\n",
      "12\n",
      "4.0\n",
      "16\n"
     ]
    }
   ],
   "source": [
    "print(1 + 2 * 4)\n",
    "\n",
    "print((1 + 2) * 4)\n",
    "\n",
    "print(8 / 2)\n",
    "\n",
    "print(2 ** 4)\n"
   ]
  },
  {
   "cell_type": "markdown",
   "metadata": {
    "slideshow": {
     "slide_type": "slide"
    }
   },
   "source": [
    "\n",
    "operator | Description | Example\n",
    "------------ | ------------- | -------------\n",
    "+ | addition | 3 + 4\n",
    "+ | concatenation | \"Hello \" + \"world\"\n",
    "- | subtraction | 4 - 2\n",
    "* | multiplication | 6 * 5\n",
    "/ | division | 8 / 2\n",
    "** | exponent | 2 ** 4"
   ]
  },
  {
   "cell_type": "markdown",
   "metadata": {
    "slideshow": {
     "slide_type": "slide"
    }
   },
   "source": [
    "### Exercise 3\n",
    "Add to your program to use each of the operators described. Try adding multiple in a single print statement and seeing what happens when you do and don't use extra parentheses."
   ]
  },
  {
   "cell_type": "markdown",
   "metadata": {
    "slideshow": {
     "slide_type": "slide"
    }
   },
   "source": [
    "### Variables\n",
    "* Earlier we mentioned that we can give names to literals.\n",
    "* You can think of this as putting the value in a box and putting a name on the box.\n",
    "* The box in this case is known as a variable.\n",
    "* Variables can change their contents at any time.\n",
    "* In Python, these boxes can hold any type of item."
   ]
  },
  {
   "cell_type": "code",
   "execution_count": 13,
   "metadata": {},
   "outputs": [
    {
     "name": "stdout",
     "output_type": "stream",
     "text": [
      "A string\n",
      "2018\n"
     ]
    }
   ],
   "source": [
    "print(\"my name is Luke\")\n",
    "print(\"my name is Luke\")\n",
    "print(\"my name is Luke\")\n",
    "print(\"my name is Luke\")"
   ]
  },
  {
   "cell_type": "code",
   "execution_count": null,
   "metadata": {},
   "outputs": [],
   "source": [
    "my_name = \"Luke\"\n",
    "print(\"my name is \" + my_name)\n",
    "print(\"my name is \" + my_name)\n",
    "print(\"my name is \" + my_name)\n",
    "print(\"my name is \" + my_name)"
   ]
  },
  {
   "cell_type": "code",
   "execution_count": null,
   "metadata": {},
   "outputs": [],
   "source": [
    "my_name = \"Luke\"\n",
    "print(\"my name is \" + my_name)\n",
    "print(\"my name is \" + my_name)\n",
    "my_name = \"Dan\"\n",
    "print(\"my name is \" + my_name)\n",
    "print(\"my name is \" + my_name)"
   ]
  },
  {
   "cell_type": "markdown",
   "metadata": {
    "slideshow": {
     "slide_type": "slide"
    }
   },
   "source": [
    "* Variables are very useful as they let us use the same code on different values.\n",
    "* We can now introduce a new type of statement - the input statement.\n",
    "* An input statement acts like a print statement that then lets the user input a value.\n",
    "* The value given by a user can then be given to a variable."
   ]
  },
  {
   "cell_type": "markdown",
   "metadata": {
    "slideshow": {
     "slide_type": "slide"
    }
   },
   "source": [
    "* A variable (our box) has a type which matches its literal value (contents).\n",
    "* When the contents of the variable changes to do a different literal the type of the variable changes too."
   ]
  },
  {
   "cell_type": "code",
   "execution_count": 14,
   "metadata": {
    "slideshow": {
     "slide_type": "slide"
    }
   },
   "outputs": [],
   "source": [
    "my_box = \"A string literal\"\n",
    "# my_box is currently a string type\n",
    "\n",
    "my_box = 4\n",
    "# my_box is currently an int type\n",
    "\n",
    "my_box = 4.0\n",
    "# my_box is currently a float type"
   ]
  },
  {
   "cell_type": "markdown",
   "metadata": {
    "slideshow": {
     "slide_type": "slide"
    }
   },
   "source": [
    "* Some operators don't work on some types of value.\n",
    "* Sometimes we want to convert from one type to another.\n",
    "* We can use int(\"4\") to convert the string \"4\" to the number 4."
   ]
  },
  {
   "cell_type": "code",
   "execution_count": 12,
   "metadata": {
    "slideshow": {
     "slide_type": "fragment"
    }
   },
   "outputs": [
    {
     "name": "stdout",
     "output_type": "stream",
     "text": [
      "Please input a number: 4\n",
      "8\n"
     ]
    }
   ],
   "source": [
    "string_variable = input(\"Please input a number: \")\n",
    "int_variable = int(variable)\n",
    "print(int_variable * 2)"
   ]
  },
  {
   "cell_type": "markdown",
   "metadata": {
    "slideshow": {
     "slide_type": "slide"
    }
   },
   "source": [
    "### Exercise 4\n",
    "Create a new program that takes two numbers from the user and multiplies them together. Remember to add comments to your code to explain what your program does."
   ]
  },
  {
   "cell_type": "markdown",
   "metadata": {
    "slideshow": {
     "slide_type": "slide"
    }
   },
   "source": [
    "### Chapter Recap\n",
    "* Statements are individual actions we can tell the computer to carry out.\n",
    "* Programs are just lists of statements.\n",
    "* We add comments to our code to explain what it does.\n",
    "* We can put values in our programs, these are known as literals.\n",
    "* We can do things with values using operators.\n",
    "* We can store values for later using variables."
   ]
  },
  {
   "cell_type": "markdown",
   "metadata": {
    "slideshow": {
     "slide_type": "slide"
    }
   },
   "source": [
    "## Chapter 3 - Controlling Things\n",
    "### Conditions\n",
    "\n",
    "### Loops"
   ]
  }
 ],
 "metadata": {
  "celltoolbar": "Slideshow",
  "kernelspec": {
   "display_name": "Python 3",
   "language": "python",
   "name": "python3"
  },
  "language_info": {
   "codemirror_mode": {
    "name": "ipython",
    "version": 3
   },
   "file_extension": ".py",
   "mimetype": "text/x-python",
   "name": "python",
   "nbconvert_exporter": "python",
   "pygments_lexer": "ipython3",
   "version": "3.6.5"
  }
 },
 "nbformat": 4,
 "nbformat_minor": 2
}
