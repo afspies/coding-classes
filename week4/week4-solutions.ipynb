{
 "cells": [
  {
   "cell_type": "code",
   "execution_count": 1,
   "metadata": {},
   "outputs": [
    {
     "name": "stdout",
     "output_type": "stream",
     "text": [
      "Please enter your username: a\n",
      "Please enter your password: a\n",
      "Invalid login details\n",
      "Invalid login details\n"
     ]
    }
   ],
   "source": [
    "# Exc. 1 Model Answer\n",
    "username = input(\"Please enter your username: \")\n",
    "password = input(\"Please enter your password: \")\n",
    "\n",
    "username = username.lower() #  Convert the username to lowercase\n",
    "\n",
    "# Check that the username-password combination is valid\n",
    "if (username == \"alex\") and (password == \"fish123\"):\n",
    "    print(\"Welcome back Alex\")\n",
    "elif (username == \"frank\") and (password == \"password\"):\n",
    "    print(\"Welcome back Frank\")\n",
    "else:\n",
    "    print(\"Invalid login details\")\n",
    "\n",
    "# -----------------------------------------------------------------------------------------------------------\n",
    "# - Also Possible -\n",
    "if ((username == \"alex\") and (password == \"fish123\")) or ((username == \"frank\") and (password == \"password\")):\n",
    "    print(\"Welcome back \" + username)\n",
    "else:\n",
    "    print(\"Invalid login details\")\n",
    "    \n",
    "# However, this is difficult to read, and will get even more ugly if we add more users"
   ]
  },
  {
   "cell_type": "code",
   "execution_count": 2,
   "metadata": {},
   "outputs": [
    {
     "name": "stdout",
     "output_type": "stream",
     "text": [
      "Please enter your username: a\n",
      "Please enter your password: a\n"
     ]
    }
   ],
   "source": [
    "# Exc. 2 Model Answer\n",
    "username = input(\"Please enter your username: \")\n",
    "password = input(\"Please enter your password: \")\n",
    "\n",
    "username = username.lower() # convert username to lowercase\n",
    "\n",
    "# This is our mini database of valid users\n",
    "valid_users = [\"alex\", \"frank\", \"nina\", \"michael\"] \n",
    "valid_passwords = [\"1234\", \"newyork\", \"feelingood\", \"thriller\"]\n",
    "\n",
    "# Store bad passwords\n",
    "bad_passwords = [\"1234\", \"password\", \"himrhacker\"]\n",
    "\n",
    "logged_in = False # For changing password later\n",
    "password_index = 0 # Also for changing password\n",
    "\n",
    "# - Check log in -\n",
    "if username in valid_users:\n",
    "    # now we need to get the matching password\n",
    "    index = valid_users.index(username)\n",
    "    matching_password = valid_passwords[index]\n",
    "    if (password == matching_password):\n",
    "        print(\"Welcome back \" + username)\n",
    "        logged_in = True\n",
    "\n",
    "# - Check password -\n",
    "# (We could also have done this by nesting another if statement above) \n",
    "\n",
    "if logged_in and (password in bad_passwords): \n",
    "    change_password = input(\"Your password sucks! Wanna change it? \")\n",
    "    if \"y\" in change_password.lower(): # works for Yes, Yeah, yes etc.\n",
    "        valid_passwords[password_index] = input(\"OK, New password: \") \n",
    "        \n",
    "# - Check it's working -\n",
    "if logged_in:\n",
    "    print(\"Username: \" + username)\n",
    "    print(\"Password: \" + valid_passwords[password_index])"
   ]
  },
  {
   "cell_type": "code",
   "execution_count": 3,
   "metadata": {},
   "outputs": [
    {
     "name": "stdout",
     "output_type": "stream",
     "text": [
      "Please enter your username: a\n",
      "Please enter your password: a\n"
     ]
    }
   ],
   "source": [
    "# Exc. 3 Model Answer\n",
    "import time\n",
    "import sys\n",
    "\n",
    "num_attempts = 0\n",
    "max_attempts = 5\n",
    "\n",
    "time_to_sleep = 10\n",
    "\n",
    "username = input(\"Please enter your username: \")\n",
    "password = input(\"Please enter your password: \")\n",
    "\n",
    "username = username.lower() # convert username to lowercase\n",
    "\n",
    "# This is our mini database of valid users\n",
    "valid_users = [\"alex\", \"frank\", \"nina\", \"michael\"] \n",
    "valid_passwords = [\"1234\", \"newyork\", \"feelingood\", \"thriller\"]\n",
    "\n",
    "# Store bad passwords\n",
    "bad_passwords = [\"1234\", \"password\", \"himrhacker\"]\n",
    "\n",
    "logged_in = False # For changing password later\n",
    "password_index = 0 # Also for changing password\n",
    "\n",
    "# - Check log in -\n",
    "if username in valid_users:\n",
    "    # now we need to get the matching password\n",
    "    index = valid_users.index(username)\n",
    "    matching_password = valid_passwords[index]\n",
    "    \n",
    "    while (password != matching_password):\n",
    "        print(\"Wrong password, please try again!\")\n",
    "        password = input(\"Please enter your password: \")\n",
    "        \n",
    "        num_attempts += 1\n",
    "        \n",
    "        if num_attempts >= max_attempts:\n",
    "            print(\"Too many attempts! Exiting...\")\n",
    "            sys.exit()\n",
    "            \n",
    "        time.sleep(time_to_sleep * num_attempts)\n",
    "    \n",
    "    print(\"Welcome back \" + username)\n",
    "    logged_in = True\n",
    "\n",
    "# - Check password -\n",
    "# (We could also have done this by nesting another if statement above) \n",
    "\n",
    "if logged_in and (password in bad_passwords): \n",
    "    change_password = input(\"Your password sucks! Wanna change it? \")\n",
    "    if \"y\" in change_password.lower(): # works for Yes, Yeah, yes etc.\n",
    "        valid_passwords[password_index] = input(\"OK, New password: \") \n",
    "        \n",
    "# - Check it's working -\n",
    "if logged_in:\n",
    "    print(\"Username: \" + username)\n",
    "    print(\"Password: \" + valid_passwords[password_index])"
   ]
  }
 ],
 "metadata": {
  "kernelspec": {
   "display_name": "Python 3",
   "language": "python",
   "name": "python3"
  },
  "language_info": {
   "codemirror_mode": {
    "name": "ipython",
    "version": 3
   },
   "file_extension": ".py",
   "mimetype": "text/x-python",
   "name": "python",
   "nbconvert_exporter": "python",
   "pygments_lexer": "ipython3",
   "version": "3.6.6"
  }
 },
 "nbformat": 4,
 "nbformat_minor": 2
}
