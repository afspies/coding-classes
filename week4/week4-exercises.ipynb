{
 "cells": [
  {
   "cell_type": "markdown",
   "metadata": {},
   "source": [
    "# Week 4 Exercises\n",
    "This week we've covered alot! A strong grasp of these topics will be essential for you in future as control and logic underpin all program structure\n",
    "## Exc. 1 (and): Multiple Users\n",
    "(This exercise is similar to the *extra* part of last week's summary.)\n",
    "\n",
    "Write some code which asks a user to \"login\". This means, they will need to provide a correct username **and** password.\n",
    "* You should have multiple possible username-password combinations which can be \"logged into\"\n",
    "* Usernames should *not* be sensitive to capital letters"
   ]
  },
  {
   "cell_type": "markdown",
   "metadata": {},
   "source": [
    "## Exc. 2 (lists & in): Bad Password Warning\n",
    "Let's make our system more slick by using what we know about lists. **Note:** Add this functionality to your solution for the previous exercise.\n",
    "### 2.a\n",
    "Check for bad passwords\n",
    "* Create a list containing what you'd consider bad passwords (e.g. \"password\", \"1234\" etc.). \n",
    "* When a user has succesfully logged in, if their password is a poor one, then tell them so\n",
    "\n",
    "### 2.b\n",
    "Store user details in lists.\n",
    "* Create two lists, one containing usernames and the other containing passwords\n",
    "* A user logs in succesfully if they enter a username-password pair corresponding to the i*th* usernames in the username list, and the i*th* password in the passwords list\n",
    "\n",
    "### 2.c\n",
    "Reset bad passwords\n",
    "* If a user logs in and their password is identified as a bad password, give them the **option** to change it (i.e. change the appropriate entry in the passwords list)"
   ]
  },
  {
   "cell_type": "markdown",
   "metadata": {},
   "source": [
    "# Exc. 3 (While): "
   ]
  },
  {
   "cell_type": "markdown",
   "metadata": {},
   "source": [
    "### 3.a Using a while loop allow the user to keep entering their password until they get it right\n",
    "### 3.b Limit the number of attempts the user gets"
   ]
  },
  {
   "cell_type": "code",
   "execution_count": null,
   "metadata": {},
   "outputs": [],
   "source": [
    "# Allow users to enter their pasword untily t"
   ]
  },
  {
   "cell_type": "markdown",
   "metadata": {},
   "source": [
    "## Challenge 1 (Modulu)\n",
    "\n"
   ]
  },
  {
   "cell_type": "markdown",
   "metadata": {},
   "source": [
    "## Challenge 2 (List Slicing)"
   ]
  },
  {
   "cell_type": "code",
   "execution_count": null,
   "metadata": {},
   "outputs": [],
   "source": []
  }
 ],
 "metadata": {
  "kernelspec": {
   "display_name": "Python 3",
   "language": "python",
   "name": "python3"
  },
  "language_info": {
   "codemirror_mode": {
    "name": "ipython",
    "version": 3
   },
   "file_extension": ".py",
   "mimetype": "text/x-python",
   "name": "python",
   "nbconvert_exporter": "python",
   "pygments_lexer": "ipython3",
   "version": "3.6.6"
  }
 },
 "nbformat": 4,
 "nbformat_minor": 2
}
