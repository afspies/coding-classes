{
 "cells": [
  {
   "cell_type": "markdown",
   "metadata": {},
   "source": [
    "# Week 4 Exercises\n",
    "This week we've covered alot! A strong grasp of these topics will be essential for you in future as control and logic underpin all program structure\n",
    "\n",
    "**Disclaimer** What we're doing here is not what big companies do when they store your data!\n",
    "## Exc. 1 (and): Multiple Users\n",
    "(This exercise is similar to the *extra* part of last week's summary.)\n",
    "\n",
    "Write some code which asks a user to \"login\". This means, they will need to provide a correct username **and** password.\n",
    "* You should have multiple possible username-password combinations which can be \"logged into\"\n",
    "* Usernames should *not* be sensitive to capital letters"
   ]
  },
  {
   "cell_type": "markdown",
   "metadata": {},
   "source": [
    "## Exc. 2 (lists & in): Bad Password Warning\n",
    "Let's make our system more slick by using what we know about lists.  \n",
    "\n",
    "**Note:** Add this functionality to your solution for the previous exercise.\n",
    "### 2.a\n",
    "Check for bad passwords\n",
    "* Create a list containing what you'd consider bad passwords (e.g. \"password\", \"1234\" etc.). \n",
    "* When a user has succesfully logged in, if their password is a poor one, then tell them so\n",
    "\n",
    "### 2.b\n",
    "Store user details in lists.\n",
    "* Create two lists, one containing usernames and the other containing passwords\n",
    "* A user logs in succesfully if they enter a username-password pair corresponding to the i*th* usernames in the username list, and the i*th* password in the passwords list\n",
    "\n",
    "### 2.c\n",
    "Reset bad passwords\n",
    "* If a user logs in and their password is identified as a bad password, give them the **option** to change it (i.e. change the appropriate entry in the passwords list)"
   ]
  },
  {
   "cell_type": "markdown",
   "metadata": {},
   "source": [
    "# Exc. 3 (While): "
   ]
  },
  {
   "cell_type": "markdown",
   "metadata": {},
   "source": [
    "### 3.a Have mercy on the user\n",
    "Using a while loop allow the user to keep entering their password until they get it right\n",
    "* Do this without breaking all the functionality you implemented above!  \n",
    "\n",
    "### 3.b That was too much mercy\n",
    "Limit the number of attempts the user gets.\n",
    "\n",
    "### 3.c (Extra) Still too much\n",
    "We don't want russian hackers breaking through! Enforce an increasing time penalty by using time.sleep(time_to_sleep)  \n",
    "\n",
    "[you will need to add **import time** to the top of your code - we'll teach you about this later]"
   ]
  },
  {
   "cell_type": "markdown",
   "metadata": {},
   "source": [
    "# Reading Week Challenges\n",
    "These challenges are tricky and require lots of clever steps! Don't feel disparaged if you don't manage to finish them - they are fairly mathematical, and it takes a lot of practice to develop the patterns of thought which computer scientists use to tackle such glorified logic puzzles.\n",
    "\n",
    "However, we **strongly** recommend that you ask friends, or even us (contact us via the facebook hacksoc group) before you look at the worked solutions - sometimes people are closer to the solution than they realise and all they need is a few helpful hints (google \"rubber duck debugging\" ;) )"
   ]
  },
  {
   "cell_type": "markdown",
   "metadata": {},
   "source": [
    "## Challenge 1 (Modulu) - Fizz Buzz\n",
    "This is a classic problem which you'll probably encounter many times if you learn other programming languages in future.\n",
    "### Problem Statement\n",
    "Given an integer N (provided by the user), print out all the integers from 0 to N. However, you must replace numbers as follows:\n",
    "* If a number is a multiple of 3, then print **Fizz** instead of the number\n",
    "* If a number is a multiple of 5, then print **Buzz** instead of the number\n",
    "* If a number is a multiple of 3 **and** 5, then print **Fizz Buzz**\n",
    "\n",
    "### Extension\n",
    "* Instead of using the built-in % operator from python, implement it yourself using another while loop - Can't trust the python developers!\n",
    "* Make sure that your program can handle **edge cases** - This is extremely important for real programmes "
   ]
  },
  {
   "cell_type": "markdown",
   "metadata": {},
   "source": [
    "## Challenge 2 (While + List Slicing) - Pascal's Triangle\n",
    "Here you will create a piece of code which generates Pascal's triangle\n",
    "### Base Problem Statement\n",
    "Given an integer N (provided by the user), using a while loop print out Pascal's Triangle in the format: 1, 121, 1331, 14641,... row_N  \n",
    "[Try doing this without creating more than one list per loop step for more difficulty]\n",
    "\n",
    "### Extra Challenge\n",
    "* Use *Nested Lists*! Store each row as a list inside of a larger list, e.g.: [[1], [121], [1331],... [row_N]]\n",
    "* After you've created your pascal's triangle list, print it out so it looks like an actual triangle:  \n",
    "        1  \n",
    "      1 2 1 ...\n",
    "      \n",
    "(Note: strings can be multiplied, e.g. \"Hiiiiiiii\" = \"H\" + \"i\" * 8)"
   ]
  },
  {
   "cell_type": "code",
   "execution_count": null,
   "metadata": {},
   "outputs": [],
   "source": []
  }
 ],
 "metadata": {
  "kernelspec": {
   "display_name": "Python 3",
   "language": "python",
   "name": "python3"
  },
  "language_info": {
   "codemirror_mode": {
    "name": "ipython",
    "version": 3
   },
   "file_extension": ".py",
   "mimetype": "text/x-python",
   "name": "python",
   "nbconvert_exporter": "python",
   "pygments_lexer": "ipython3",
   "version": "3.6.6"
  }
 },
 "nbformat": 4,
 "nbformat_minor": 2
}
