{
 "cells": [
  {
   "cell_type": "markdown",
   "metadata": {},
   "source": [
    "# Python Class - Week 4\n",
    "1. Some extras\n",
    "2. Lists\n",
    "3. SCOPES?\n",
    "3. For\n",
    "4. While"
   ]
  },
  {
   "cell_type": "markdown",
   "metadata": {},
   "source": [
    "# Before we move on\n",
    "## Modulo (Might make this an extension)\n",
    "The modulu operator provides a useful way of checking whether something a multiple of something else - it essentially returns the remainder after as many steps of division as possible:"
   ]
  },
  {
   "cell_type": "code",
   "execution_count": 4,
   "metadata": {},
   "outputs": [],
   "source": [
    "test1 = 12 % 2 # this will equal 0 as 2 divides 12 exactly\n",
    "test2 = 13 % 2 # this will return 1 as 13 = (6 * 2) + 1\n",
    "\n",
    "# We can use this to check if something is even or odd!\n",
    "number = 10\n",
    "if (number % 2) == 0:\n",
    "    print(\"Number divisible by 2. That means it's even!\")\n",
    "else:\n",
    "    print(\"How odd ¯\\_(ツ)_/¯\")"
   ]
  },
  {
   "cell_type": "markdown",
   "metadata": {},
   "source": [
    "## More control:\n",
    "### AND & OR\n",
    "**and** & **or** allow us to increase the complexity of logic in our programmes, without needing to a bunch of nested if statements. These can be used at declaration, or in our logical conditions, just as with the previously encountered operands (==, != etc.)\n",
    " * **and** is true when both following statements are true\n",
    " * **or** is true when at least one of the following statements is true"
   ]
  },
  {
   "cell_type": "code",
   "execution_count": null,
   "metadata": {},
   "outputs": [],
   "source": [
    "# Use in declaration\n",
    "try_and1 = (7 > 6) and (\"hi\" != \"bye\") # will be true\n",
    "try_and2 = (6 > 7) and (\"hi\" != \"bye\") # will be false\n",
    "try_or = (6 < 7) or (\"hi\" != \"bye\") # will be true!\n",
    "\n",
    "# Use in comparison\n",
    "is_scary = False\n",
    "has_scales = True\n",
    "\n",
    "if (has_scales and is_scary):\n",
    "    print(\"GODZILLA!!! \\0/ \\0/ \\0/\")\n",
    "elif (has_scales or is_scary): # one or the other, as \"and\" wasn't true\n",
    "    print(\"Get it away from me!\")\n",
    "else:\n",
    "    print(\"How boring...\")"
   ]
  },
  {
   "cell_type": "markdown",
   "metadata": {},
   "source": [
    "### in\n",
    "**in** allows us to check if a substring or item is contained in a specified object. This will be useful when we discuss lists shortly, but we've already seen how this can be used:"
   ]
  },
  {
   "cell_type": "code",
   "execution_count": null,
   "metadata": {},
   "outputs": [],
   "source": [
    "# For strings\n",
    "if \"a\" in \"alex\":\n",
    "    print(\"Gimme an A!\")\n",
    "else:\n",
    "    print(\"Weird alphabet..\")\n",
    "    \n",
    "# For multiple items\n",
    "name = \"vader\"\n",
    "if (name in ['yoda', 'mace', 'obi']):\n",
    "    print(\"Join the dark side\")\n",
    "else:\n",
    "    print(\"Yeesssssss\")"
   ]
  },
  {
   "cell_type": "markdown",
   "metadata": {},
   "source": [
    "# Lists\n",
    "We've already encountered lists, though not explicitly. Lists are the first proper \"data structure\" that we will cover\n",
    "* Lists allow us to store multiple values in one object\n",
    "* Lists can change size without us needing to re-declare them all the time\n",
    "* Lists can also be used for carrying out vector and matrix arithmetic (*See ayushes course if this kind of thing sounds interesting*)\n",
    "\n",
    "Lists are created by using square brackets, [], and in python they can contain multiple different types of items:"
   ]
  },
  {
   "cell_type": "code",
   "execution_count": 20,
   "metadata": {},
   "outputs": [],
   "source": [
    "# Create a list\n",
    "my_first_list = [\"Hello\", \"There\", 11]\n",
    "\n",
    "# Add an item to the list\n",
    "my_first_list.append(\"Bye\")\n",
    "\n",
    "# Check if something is in the list\n",
    "if (17 in my_first_list):\n",
    "    print(\"My favorite number!\")\n",
    "else:\n",
    "    print(\"Oh well\")"
   ]
  },
  {
   "cell_type": "markdown",
   "metadata": {},
   "source": [
    "## Accessing list items\n",
    "In python (and many other programming languages) we **count from 0**. So the first item in a list is always at the **\"zeroeth\" position**. \n",
    "\n",
    "If we wish to get items from a specific location in our list, we can do this by using square brackets next to the list's name: e.g. list[index]"
   ]
  },
  {
   "cell_type": "code",
   "execution_count": 23,
   "metadata": {},
   "outputs": [],
   "source": [
    "sentence = [\"A\", \"Wizard\", \"Is\",\"Never\",\"Late\",\"!\"]\n",
    "\n",
    "first_word = sentence[0]\n",
    "last_word = sentence[5]"
   ]
  },
  {
   "cell_type": "markdown",
   "metadata": {},
   "source": [
    "## Range\n",
    "The python **range()** function gives us a useful way of creating a list of numbers. **Note:** the function returns integers ranging from the first parameter to the second, but not including the second!"
   ]
  },
  {
   "cell_type": "code",
   "execution_count": 22,
   "metadata": {},
   "outputs": [
    {
     "name": "stdout",
     "output_type": "stream",
     "text": [
      "[2, 3, 4, 5, 6, 7, 8, 9, 10, 11, 12, 13]\n"
     ]
    }
   ],
   "source": [
    "numbers = list(range(2,14)) # Create a list of integers\n",
    "print(numbers)\n",
    "\n",
    "# In logic\n",
    "my_number = 8\n",
    "\n",
    "# We don't need to explicitly use list() unless we want it to print nicely\n",
    "if (my_number in range(32, 47)): # There's a better way of checking this, what is it?\n",
    "    print(\"Number falls in range\")"
   ]
  },
  {
   "cell_type": "markdown",
   "metadata": {},
   "source": [
    "## More list stuff (Not sure we should cover this yet)\n",
    "### List length\n",
    "Sometimes we want to know how many things are inside of our list - python has the **len()** function which allows us to do just this:"
   ]
  },
  {
   "cell_type": "code",
   "execution_count": 26,
   "metadata": {},
   "outputs": [
    {
     "name": "stdout",
     "output_type": "stream",
     "text": [
      "13\n"
     ]
    }
   ],
   "source": [
    "numbers = range(12,25) # There are 13 numbers between 12 and 25\n",
    "\n",
    "length_numbers = len(numbers) \n",
    "print(length_numbers) "
   ]
  },
  {
   "cell_type": "markdown",
   "metadata": {},
   "source": [
    "### List Slicing\n",
    "Sometimes we want to access sub-sections of our list, without needing to manually get every item contained in that section. To this end we can use colons when accessing arrays.\n",
    "* This works like **my_list[begin:end:step_size]**\n",
    "\n",
    "**Note** you don't need to specify all three of these, python will take default values:\n",
    "\n",
    "* begin - start of list\n",
    "* end - end of list\n",
    "* step_size - 1"
   ]
  },
  {
   "cell_type": "code",
   "execution_count": 50,
   "metadata": {
    "scrolled": true
   },
   "outputs": [
    {
     "name": "stdout",
     "output_type": "stream",
     "text": [
      "['Guy', 'Never', 'Said', 'Anything']\n",
      "stressed\n"
     ]
    }
   ],
   "source": [
    "sentence = [\"What\", \"A\", \"Great\", \",\", \"Guy\",\"Never\",\"Said\", \"Anything\",\"Bad\"]\n",
    "\n",
    "# Emulate the media\n",
    "out_of_context = sentence[4:8:1] # Get part of the list\n",
    "print(out_of_context)\n",
    "\n",
    "# Strings are effectively lists of characters\n",
    "the_dream = \"desserts\"\n",
    "university = the_dream[::-1] # We can go backwards too\n",
    "\n",
    "print(university)"
   ]
  },
  {
   "cell_type": "markdown",
   "metadata": {},
   "source": [
    "# Controlling Program Flow\n",
    "## For loops\n",
    "**For** Is a control statement which allows us to do something **for** every item in a list (we'll cover more advanced uses later). In doing so, we keep track of our progress through the iteration loop by assigning the value in a counter (we can give it any name)."
   ]
  },
  {
   "cell_type": "code",
   "execution_count": 43,
   "metadata": {},
   "outputs": [],
   "source": [
    "# A simple for loop - runs 5 times!\n",
    "for counter in range(1, 6):\n",
    "    print(str(counter) + \" Cookie... Ahaha\" )"
   ]
  },
  {
   "cell_type": "markdown",
   "metadata": {},
   "source": [
    "Sometimes we wan't to actually access the elements of our list"
   ]
  },
  {
   "cell_type": "code",
   "execution_count": 40,
   "metadata": {},
   "outputs": [
    {
     "name": "stdout",
     "output_type": "stream",
     "text": [
      "Poor\n",
      "You\n",
      "Thinking\n",
      "Hillary\n",
      "Owned\n",
      "North america\n"
     ]
    }
   ],
   "source": [
    "my_list = [\"Poor\", \"You\", \"Thinking\", \"Hillary\",\"Owned\", \"North america\"]\n",
    "\n",
    "# Run for loop through list\n",
    "for i in range(0, len(my_list)):\n",
    "    print(my_list[i])"
   ]
  },
  {
   "cell_type": "markdown",
   "metadata": {},
   "source": [
    "Of course, we can also use if statements inside of for loops!"
   ]
  },
  {
   "cell_type": "code",
   "execution_count": 46,
   "metadata": {},
   "outputs": [],
   "source": [
    "# Print even numbers less than 20\n",
    "for i in range(0, 20):\n",
    "    if (i % 2) == 0:\n",
    "        print(str(i) + \" is an even number!\")"
   ]
  },
  {
   "cell_type": "markdown",
   "metadata": {},
   "source": [
    "## While"
   ]
  },
  {
   "cell_type": "markdown",
   "metadata": {},
   "source": [
    "When working on the user-password checking code last week, some people wanted to allow less-dexterous users to have multiple goes at entering passwords, but they didn't want to have to manually nest a bunch of ugly if statements. Luckily for us, python provides us with **while** statements - these allow us to execute a block of code only *while* a condition is true."
   ]
  },
  {
   "cell_type": "code",
   "execution_count": null,
   "metadata": {},
   "outputs": [],
   "source": [
    "# This will run forever!\n",
    "while (True):\n",
    "    print (\"Just keep swimming\")"
   ]
  },
  {
   "cell_type": "code",
   "execution_count": 49,
   "metadata": {},
   "outputs": [
    {
     "name": "stdout",
     "output_type": "stream",
     "text": [
      "Admit it, These python classes are the highlight of your week! You wish\n",
      "Admit it, These python classes are the highlight of your week! No!\n",
      "Admit it, These python classes are the highlight of your week! Stop nagging me\n",
      "Admit it, These python classes are the highlight of your week! Alright, FINE! It's true...\n"
     ]
    }
   ],
   "source": [
    "acceptance = \"\" # Keep track of condition\n",
    "\n",
    "while (acceptance != \"Alright, FINE! It's true...\"):\n",
    "    acceptance = input(\"Admit it, These python classes are the highlight of your week! \")"
   ]
  },
  {
   "cell_type": "markdown",
   "metadata": {},
   "source": [
    "# Exercises\n",
    "Using the concepts covered, try and work through as many of the exercises on the exercise sheet as you can"
   ]
  }
 ],
 "metadata": {
  "kernelspec": {
   "display_name": "Python 3",
   "language": "python",
   "name": "python3"
  },
  "language_info": {
   "codemirror_mode": {
    "name": "ipython",
    "version": 3
   },
   "file_extension": ".py",
   "mimetype": "text/x-python",
   "name": "python",
   "nbconvert_exporter": "python",
   "pygments_lexer": "ipython3",
   "version": "3.6.6"
  }
 },
 "nbformat": 4,
 "nbformat_minor": 2
}
