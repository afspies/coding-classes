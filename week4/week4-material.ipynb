{
 "cells": [
  {
   "cell_type": "markdown",
   "metadata": {
    "slideshow": {
     "slide_type": "slide"
    }
   },
   "source": [
    "# Python Class - Week 4\n",
    "1. Recap\n",
    "2. And, Or, in\n",
    "3. While\n",
    "3. Lists"
   ]
  },
  {
   "cell_type": "markdown",
   "metadata": {
    "slideshow": {
     "slide_type": "slide"
    }
   },
   "source": [
    "# Before we move on\n",
    "## Recap\n",
    "Last time we covered if statments and different ways of using them. To remind you:"
   ]
  },
  {
   "cell_type": "code",
   "execution_count": 1,
   "metadata": {
    "slideshow": {
     "slide_type": "fragment"
    }
   },
   "outputs": [],
   "source": [
    "fav_num = 17\n",
    "\n",
    "my_string = \"SoMeMeSS\"\n",
    "my_string = my_string.lower() # Make it lowercase for easier comparison\n",
    "\n",
    "if \"mess\" in my_string: # use *in* \n",
    "    print(\"My life\")\n",
    "elif my_string == \"doggo\": # else-if\n",
    "    if fav_num == 17: # so-called \"nested\" if statement\n",
    "        print(\"Doggos are awesome, and so is the number 17\")\n",
    "else:\n",
    "    print(\"I'm running out of ideas :<\")"
   ]
  },
  {
   "cell_type": "markdown",
   "metadata": {
    "slideshow": {
     "slide_type": "slide"
    }
   },
   "source": [
    "## More control:\n",
    "### AND & OR\n",
    "**and** & **or** allow us to increase the complexity of logic in our programmes, without needing to a bunch of nested if statements. These can be used at declaration, or in our logical conditions, just as with the previously encountered operands (==, != etc.)\n",
    " * **and** is true when both following statements are true\n",
    " * **or** is true when at least one of the following statements is true"
   ]
  },
  {
   "cell_type": "code",
   "execution_count": 1,
   "metadata": {
    "slideshow": {
     "slide_type": "subslide"
    }
   },
   "outputs": [],
   "source": [
    "# Use in declaration\n",
    "try_and1 = (7 > 6) and (\"hi\" != \"bye\") # will be true\n",
    "try_and2 = (6 > 7) and (\"hi\" != \"bye\") # will be false\n",
    "try_or = (6 < 7) or (\"hi\" != \"bye\") # will be true!\n",
    "\n",
    "# Use in comparison\n",
    "is_scary = False\n",
    "has_scales = True\n",
    "\n",
    "if has_scales and is_scary:\n",
    "    print(\"GODZILLA!!! \\0/ \\0/ \\0/\")\n",
    "elif has_scales or is_scary: # one or the other, as \"and\" wasn't true\n",
    "    print(\"Get it away from me!\")\n",
    "else:\n",
    "    print(\"How boring...\")"
   ]
  },
  {
   "cell_type": "markdown",
   "metadata": {
    "slideshow": {
     "slide_type": "fragment"
    }
   },
   "source": [
    "*Get it away from me!*"
   ]
  },
  {
   "cell_type": "markdown",
   "metadata": {
    "slideshow": {
     "slide_type": "slide"
    }
   },
   "source": [
    "### in\n",
    "**in** allows us to check if a substring or item is contained in a specified object. This will be useful when we discuss lists shortly, but we've already seen how this can be used:"
   ]
  },
  {
   "cell_type": "code",
   "execution_count": 8,
   "metadata": {
    "slideshow": {
     "slide_type": "subslide"
    }
   },
   "outputs": [],
   "source": [
    "# For strings\n",
    "if (\"a\" in \"alex\") or (\"b\" in \"bobby\"):\n",
    "    print(\"I can spell!\")\n",
    "else:\n",
    "    print(\"Weird alphabet..\")"
   ]
  },
  {
   "cell_type": "markdown",
   "metadata": {
    "slideshow": {
     "slide_type": "fragment"
    }
   },
   "source": [
    "*I can spell!*"
   ]
  },
  {
   "cell_type": "markdown",
   "metadata": {
    "slideshow": {
     "slide_type": "slide"
    }
   },
   "source": [
    "## Controlling Flow\n",
    "### While\n",
    "What if we want something to keep happening until a condition is met? -> **while** statements!\n",
    "* For example, letting users guess their password more than once with *if* statements meant creating ugly nested blocks\n",
    "* While statements will allow us to execute a block of code only *while* a condition is true."
   ]
  },
  {
   "cell_type": "code",
   "execution_count": 3,
   "metadata": {
    "slideshow": {
     "slide_type": "subslide"
    }
   },
   "outputs": [],
   "source": [
    "# This will run forever! :O - \"infinite while loop\"\n",
    "while True:\n",
    "    print (\"Shame...\")\n",
    "# You can abort with ctrl-c or by pressing the stop button"
   ]
  },
  {
   "cell_type": "code",
   "execution_count": 1,
   "metadata": {
    "scrolled": true,
    "slideshow": {
     "slide_type": "fragment"
    }
   },
   "outputs": [],
   "source": [
    "acceptance = \"\" # Keep track of condition\n",
    "\n",
    "print(\"I know these python classes are the highlight of your week!\")\n",
    "while (acceptance != \"Alright, FINE! It's true...\"): \n",
    "    acceptance = input(\"Confess! \")"
   ]
  },
  {
   "cell_type": "markdown",
   "metadata": {
    "slideshow": {
     "slide_type": "fragment"
    }
   },
   "source": [
    "*I know these python classes are the highlight of your week!*  \n",
    "*Confess! no*  \n",
    "*Confess! no!*  \n",
    "*Confess! NO!*  \n",
    "*Confess! ARE YOU DEAF?*  \n",
    "*Confess! Alright, FINE! It's true...*"
   ]
  },
  {
   "cell_type": "markdown",
   "metadata": {
    "slideshow": {
     "slide_type": "slide"
    }
   },
   "source": [
    "We can also use while statements to do things a certain number of times:"
   ]
  },
  {
   "cell_type": "code",
   "execution_count": 5,
   "metadata": {
    "slideshow": {
     "slide_type": "fragment"
    }
   },
   "outputs": [],
   "source": [
    "# Use while loops to emulate the best muppet\n",
    "limbs_remaining = 4\n",
    "\n",
    "while limbs_remaining > 0: # Run until the blacknight dies\n",
    "    print(\"Come on then!\") \n",
    "    limbs_remaining = limbs_remaining - 1 # Increment the counter\n",
    "    \n",
    "print(\"We'll call it a draw\")"
   ]
  },
  {
   "cell_type": "markdown",
   "metadata": {
    "slideshow": {
     "slide_type": "fragment"
    }
   },
   "source": [
    "*Come on then!*  \n",
    "*Come on then!*  \n",
    "*Come on then!*  \n",
    "*Come on then!*  \n",
    "*We'll call it a draw* "
   ]
  },
  {
   "cell_type": "markdown",
   "metadata": {
    "slideshow": {
     "slide_type": "slide"
    }
   },
   "source": [
    "# Lists\n",
    "We've already encountered lists, though not explicitly. Lists are the first proper \"data structure\" that we will cover\n",
    "* Lists allow us to store multiple values in one object\n",
    "* Lists can change size without us needing to re-declare them all the time\n",
    "* Lists can also be used for carrying out vector and matrix arithmetic (*See ayushes course if this kind of thing sounds interesting*)\n",
    "\n",
    "Lists are created by using square brackets, [], and in python they can contain multiple different types of items:"
   ]
  },
  {
   "cell_type": "code",
   "execution_count": 11,
   "metadata": {
    "slideshow": {
     "slide_type": "subslide"
    }
   },
   "outputs": [],
   "source": [
    "# Create a list\n",
    "my_first_list = [\"Hello\", \"There\", 11]\n",
    "\n",
    "# Check if something is in the list\n",
    "if (17 in my_first_list):\n",
    "    print(\"My favorite number!\")\n",
    "else:\n",
    "    print(\"Oh well\")"
   ]
  },
  {
   "cell_type": "markdown",
   "metadata": {
    "slideshow": {
     "slide_type": "fragment"
    }
   },
   "source": [
    "*Oh well*"
   ]
  },
  {
   "cell_type": "markdown",
   "metadata": {
    "slideshow": {
     "slide_type": "slide"
    }
   },
   "source": [
    "## Accessing list items\n",
    "In python (and many other programming languages) we **count from 0**. So the first item in a list is always at the **\"zeroeth\" position**. \n",
    "\n",
    "If we wish to get items from a specific location in our list, we can do this by using square brackets next to the list's name: e.g. list[index]"
   ]
  },
  {
   "cell_type": "code",
   "execution_count": 1,
   "metadata": {
    "slideshow": {
     "slide_type": "subslide"
    }
   },
   "outputs": [],
   "source": [
    "sentence = [\"A\", \"Wizard\", \"Is\",\"Never\",\"Late\",\"!\"]\n",
    "\n",
    "first_word = sentence[0]\n",
    "second_word = sentence[1]\n",
    "fifth_word = sentence[4]\n",
    "\n",
    "print(first_word + \" \" + fifth_word + \" \" + second_word)"
   ]
  },
  {
   "cell_type": "markdown",
   "metadata": {
    "slideshow": {
     "slide_type": "fragment"
    }
   },
   "source": [
    "*A Late Wizard*"
   ]
  },
  {
   "cell_type": "markdown",
   "metadata": {
    "slideshow": {
     "slide_type": "slide"
    }
   },
   "source": [
    "### List length\n",
    "If we want to find out how many items are in our list, we can use the length function, **len()**:"
   ]
  },
  {
   "cell_type": "code",
   "execution_count": 13,
   "metadata": {
    "slideshow": {
     "slide_type": "fragment"
    }
   },
   "outputs": [],
   "source": [
    "my_list = ['Size', 'doesn\\'t', 'matter']\n",
    "\n",
    "size = len(my_list)\n",
    "print(my_list[size - 1]) # Because index starts at 0"
   ]
  },
  {
   "cell_type": "markdown",
   "metadata": {
    "slideshow": {
     "slide_type": "fragment"
    }
   },
   "source": [
    "*matter*"
   ]
  },
  {
   "cell_type": "markdown",
   "metadata": {
    "slideshow": {
     "slide_type": "slide"
    }
   },
   "source": [
    "If we want to know where in our list a certain value is stored, we can use pythons in-built **.index()** function:"
   ]
  },
  {
   "cell_type": "code",
   "execution_count": 14,
   "metadata": {
    "slideshow": {
     "slide_type": "fragment"
    }
   },
   "outputs": [],
   "source": [
    "worded_numbers = [\"zero\", \"one\", \"two\", \"three\", \"four\"]\n",
    "\n",
    "index_of_two = worded_numbers.index(\"two\")\n",
    "print(\"The string 'two' is at position: \" + str(index_of_two)) # At what index is the string \"two\"?"
   ]
  },
  {
   "cell_type": "markdown",
   "metadata": {
    "slideshow": {
     "slide_type": "fragment"
    }
   },
   "source": [
    "*The string 'two' is at position: 2*"
   ]
  },
  {
   "cell_type": "markdown",
   "metadata": {
    "slideshow": {
     "slide_type": "slide"
    }
   },
   "source": [
    "## Looping through lists\n",
    "We can use while loops to go through the items in our lists"
   ]
  },
  {
   "cell_type": "code",
   "execution_count": 25,
   "metadata": {
    "slideshow": {
     "slide_type": "fragment"
    }
   },
   "outputs": [],
   "source": [
    "my_list = ['She', 'sells', 'sea', 'shells']\n",
    "index = 0\n",
    "\n",
    "# We don't need to explicitly use list() unless we want it to print nicely\n",
    "while index < len(my_list):\n",
    "    print(my_list[index])\n",
    "    index = index + 1"
   ]
  },
  {
   "cell_type": "markdown",
   "metadata": {
    "slideshow": {
     "slide_type": "fragment"
    }
   },
   "source": [
    "*She*  \n",
    "*sells*  \n",
    "*sea*  \n",
    "*shells*  "
   ]
  },
  {
   "cell_type": "markdown",
   "metadata": {
    "slideshow": {
     "slide_type": "slide"
    }
   },
   "source": [
    "## Range\n",
    "The python **range()** function gives us a useful way of creating a list of numbers. **Note:** the function returns integers ranging from the first parameter to the second, but not including the second!"
   ]
  },
  {
   "cell_type": "code",
   "execution_count": 26,
   "metadata": {
    "slideshow": {
     "slide_type": "fragment"
    }
   },
   "outputs": [],
   "source": [
    "numbers = list(range(2,14)) # Create a list of integers\n",
    "print(numbers)"
   ]
  },
  {
   "cell_type": "markdown",
   "metadata": {
    "slideshow": {
     "slide_type": "fragment"
    }
   },
   "source": [
    "*[2, 3, 4, 5, 6, 7, 8, 9, 10, 11, 12, 13]*"
   ]
  },
  {
   "cell_type": "markdown",
   "metadata": {
    "slideshow": {
     "slide_type": "slide"
    }
   },
   "source": [
    "# Notices\n",
    "## Feedback\n",
    "Please give us feedback so we can improve these classes!\n",
    "**bit.ly/uompythonclass**\n",
    "##  Reading Week\n",
    "No classes next week! Extra challenges to cement your knowledge - message hacksoc on facebook if you need help with the challenges."
   ]
  },
  {
   "cell_type": "markdown",
   "metadata": {
    "slideshow": {
     "slide_type": "skip"
    }
   },
   "source": [
    "# Exercises\n",
    "Using the concepts covered, try and work through as many of the exercises on the exercise sheet as you can"
   ]
  },
  {
   "cell_type": "markdown",
   "metadata": {
    "slideshow": {
     "slide_type": "skip"
    }
   },
   "source": [
    "## Extra\n",
    "## Modulo\n",
    "The modulu operator provides a useful way of checking whether something a multiple of something else - it essentially returns the remainder after as many steps of division as possible:"
   ]
  },
  {
   "cell_type": "code",
   "execution_count": null,
   "metadata": {
    "slideshow": {
     "slide_type": "skip"
    }
   },
   "outputs": [],
   "source": [
    "test1 = 12 % 2 # this will equal 0 as 2 divides 12 exactly\n",
    "test2 = 13 % 2 # this will return 1 as 13 = (6 * 2) + 1\n",
    "\n",
    "# We can use this to check if something is even or odd!\n",
    "number = 10\n",
    "if (number % 2) == 0:\n",
    "    print(\"Number divisible by 2. That means it's even!\")\n",
    "else:\n",
    "    print(\"How odd ¯\\_(ツ)_/¯\")"
   ]
  },
  {
   "cell_type": "markdown",
   "metadata": {
    "slideshow": {
     "slide_type": "skip"
    }
   },
   "source": [
    "\n",
    "\n",
    "### List Slicing\n",
    "Sometimes we want to access sub-sections of our list, without needing to manually get every item contained in that section. To this end we can use colons when accessing arrays.\n",
    "* This works like **my_list[begin:end:step_size]**\n",
    "\n",
    "**Note** you don't need to specify all three of these, python will take default values:\n",
    "\n",
    "* begin - start of list\n",
    "* end - end of list\n",
    "* step_size - 1"
   ]
  },
  {
   "cell_type": "code",
   "execution_count": 29,
   "metadata": {
    "slideshow": {
     "slide_type": "skip"
    }
   },
   "outputs": [
    {
     "name": "stdout",
     "output_type": "stream",
     "text": [
      "['Guy', 'Never', 'Said', 'Anything']\n",
      "stressed\n"
     ]
    }
   ],
   "source": [
    "sentence = [\"What\", \"A\", \"Great\", \",\", \"Guy\",\"Never\",\"Said\", \"Anything\",\"Bad\"]\n",
    "\n",
    "# Emulate the media\n",
    "out_of_context = sentence[4:8:1] # Get part of the list\n",
    "print(out_of_context)\n",
    "\n",
    "# Strings are effectively lists of characters\n",
    "the_dream = \"desserts\"\n",
    "university = the_dream[::-1] # We can go backwards too\n",
    "\n",
    "print(university)"
   ]
  }
 ],
 "metadata": {
  "celltoolbar": "Slideshow",
  "kernelspec": {
   "display_name": "Python 3",
   "language": "python",
   "name": "python3"
  },
  "language_info": {
   "codemirror_mode": {
    "name": "ipython",
    "version": 3
   },
   "file_extension": ".py",
   "mimetype": "text/x-python",
   "name": "python",
   "nbconvert_exporter": "python",
   "pygments_lexer": "ipython3",
   "version": "3.6.6"
  }
 },
 "nbformat": 4,
 "nbformat_minor": 2
}
