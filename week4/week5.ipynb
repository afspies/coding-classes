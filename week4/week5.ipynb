{
 "cells": [
  {
   "cell_type": "markdown",
   "metadata": {},
   "source": [
    "# Controlling Program Flow\n",
    "## For loops\n",
    "**For** Is a control statement which allows us to do something **for** every item in a list (we'll cover more advanced uses later). In doing so, we keep track of our progress through the iteration loop by assigning the value in a counter (we can give it any name).\n",
    "\n",
    "# A simple for loop - runs 5 times!\n",
    "for counter in range(1, 6):\n",
    "    print(str(counter) + \" Cookie... Ahaha\" )\n",
    "    \n",
    "Sometimes we wan't to actually access the elements of our list\n",
    "\n",
    "my_list = [\"Poor\", \"You\", \"Thinking\", \"Hillary\",\"Owned\", \"North America\"]\n",
    "\n",
    "# Run for loop through list\n",
    "for i in range(0, len(my_list)):\n",
    "    print(my_list[i])\n",
    "    \n",
    "    Of course, we can also use if statements inside of for loops!\n",
    "    \n",
    "    # Print even numbers less than 20\n",
    "for i in range(0, 20):\n",
    "    if (i % 2) == 0:\n",
    "        print(str(i) + \" is an even number!\")"
   ]
  }
 ],
 "metadata": {
  "kernelspec": {
   "display_name": "Python 3",
   "language": "python",
   "name": "python3"
  },
  "language_info": {
   "codemirror_mode": {
    "name": "ipython",
    "version": 3
   },
   "file_extension": ".py",
   "mimetype": "text/x-python",
   "name": "python",
   "nbconvert_exporter": "python",
   "pygments_lexer": "ipython3",
   "version": "3.6.6"
  }
 },
 "nbformat": 4,
 "nbformat_minor": 2
}
