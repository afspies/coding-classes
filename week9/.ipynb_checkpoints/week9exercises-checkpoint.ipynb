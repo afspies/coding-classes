{
 "cells": [
  {
   "cell_type": "markdown",
   "metadata": {},
   "source": [
    "# Week 9 Exercises\n",
    "## Hatching a Plot\n",
    "### Part 1: Loading data with numpy\n",
    "Use **np.genfromtext()** to load the data we've provided for you in the \"data\" folder of the repository as required. For this exercise you'll want to use the \"Deaths\" and \"Household_expenditure\" data.\n",
    "\n",
    "In order to get the desired behaviour, you'll need to specify some arguments in npgenfromtext(), as we did in the example (What's the delimiter?, Is there a column names row?, Are there multiple types of data in each row?).\n",
    "\n",
    "* Once you've imported these two data sets succesfully, double check that you can access and print items from the numpy arrays in the same was we did with lists (i.e. using a for loop and [] index notation)\n",
    "\n",
    "### Part 2: Plotting with Matplotlib\n",
    "You'll want to start by importing matplotlib.pyplot as plt, because no one wants to write so much stuff everytime they use the module. Then\n",
    "* Using for loops, create lists containing the years, total spending and percentage spending from the Household  expenditure array\n",
    "* Plot the total spending and percentage spending against years, in two seperate plots\n",
    "* Make your plots look nice by setting labels and titles using plt.title(\"my title\"), plt.xlabel(\"x axis label\")\n",
    "\n",
    "**Extension:**\n",
    "* Plot both the percentange and total spending on the same plot, first normalizing (i.e. rescaling) the data, so only the trend information is seen. \n",
    "* Using the label=\"my label\" argument in the plotting step, create a legend (you'll need to call plt.legend() before plt.show())\n",
    "\n",
    "### Part 3: Bar Charts\n",
    "Using the **plt.barh(bin_labels, bin_frequencies)** function, create a barchart visualizing the relative frequencies of alchol-related deaths in 2015 (i.e. the data imported from the Deaths.csv)\n",
    "* You'll need to use the first column of the data as the axis labels\n",
    "\n",
    "## A fitting challenge\n",
    "Choosing an interesting dataset (e.g. Alcohol-related expenditure), try to fit a polynomial function to the data using **np.polyfit** (see: https://docs.scipy.org/doc/numpy/reference/generated/numpy.polyfit.html), and based on the best fitting polynomial, extrapolate the trend for the next five years - plot this prediction and see whether it makes sense!"
   ]
  }
 ],
 "metadata": {
  "kernelspec": {
   "display_name": "Python 3",
   "language": "python",
   "name": "python3"
  },
  "language_info": {
   "codemirror_mode": {
    "name": "ipython",
    "version": 3
   },
   "file_extension": ".py",
   "mimetype": "text/x-python",
   "name": "python",
   "nbconvert_exporter": "python",
   "pygments_lexer": "ipython3",
   "version": "3.6.7"
  }
 },
 "nbformat": 4,
 "nbformat_minor": 2
}
