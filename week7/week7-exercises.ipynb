{
 "cells": [
  {
   "cell_type": "markdown",
   "metadata": {},
   "source": [
    "# Python Week 7 - Exercises\n",
    "This week, the main goal of the exercises if to get you familiar with using **documentation** for packages; an essential skill when you work on projects in the future.\n",
    "\n",
    "## Numpy\n",
    "Before we begin giving our turtle orders, we're going to have a go at installing a commonly used package for maths, especially linear alegbra (vectors, arrays, metrices etc.)\n",
    "\n",
    "1. Install the numpy package from the command line or terminal (depending on your operating system) using **pip install numpy**\n",
    "    * NOTE: If you get an error saying that PIP isn't installed, refer to the extra section at the end of this sheet for help (or ask a TA!)\n",
    "2. Create a new python script, which imports numpy and "
   ]
  },
  {
   "cell_type": "code",
   "execution_count": null,
   "metadata": {},
   "outputs": [],
   "source": []
  }
 ],
 "metadata": {
  "kernelspec": {
   "display_name": "Python 3",
   "language": "python",
   "name": "python3"
  },
  "language_info": {
   "codemirror_mode": {
    "name": "ipython",
    "version": 3
   },
   "file_extension": ".py",
   "mimetype": "text/x-python",
   "name": "python",
   "nbconvert_exporter": "python",
   "pygments_lexer": "ipython3",
   "version": "3.6.7"
  }
 },
 "nbformat": 4,
 "nbformat_minor": 2
}
