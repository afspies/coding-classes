{
 "cells": [
  {
   "cell_type": "markdown",
   "metadata": {},
   "source": [
    "# Python Classes Week 6\n",
    "Finishing the essentials:\n",
    "* Functions\n",
    "* File I/O\n"
   ]
  },
  {
   "cell_type": "markdown",
   "metadata": {},
   "source": [
    "# Functions\n",
    "If we want to do the same thing in multiple places in our code then we can use *functions* rather than *copy pasting*\n",
    "\n",
    "## Declaration\n",
    "We create functions using the **def** keyword - This process is called \"declaration\""
   ]
  },
  {
   "cell_type": "code",
   "execution_count": 12,
   "metadata": {},
   "outputs": [],
   "source": [
    "# \"Declare\" a function\n",
    "def my_function():\n",
    "    print(\"I'm nOT DysFUnctIonaL!\")\n",
    "\n",
    "# \"Call\" the function twice\n",
    "my_function()\n",
    "my_function()"
   ]
  },
  {
   "cell_type": "markdown",
   "metadata": {},
   "source": [
    "*I'm nOT DysFUnctIonaL!*  \n",
    "*I'm nOT DysFUnctIonaL!*"
   ]
  },
  {
   "cell_type": "markdown",
   "metadata": {},
   "source": [
    "## Returning\n",
    "Most of the time, we use functions to carry out an operation and collect the result. **return** allows us to get the function to give us an output."
   ]
  },
  {
   "cell_type": "code",
   "execution_count": 1,
   "metadata": {},
   "outputs": [],
   "source": [
    "# Return lower-case user input from the function\n",
    "def get_lowercase_input():\n",
    "    user_input = input(\"All good in the hood? \")\n",
    "    return user_input.lower() # Convert to lowercase and return"
   ]
  },
  {
   "cell_type": "code",
   "execution_count": 3,
   "metadata": {},
   "outputs": [],
   "source": [
    "lowered_input = get_lowercase_input()\n",
    "print(lowered_input)"
   ]
  },
  {
   "cell_type": "markdown",
   "metadata": {},
   "source": [
    "*All good in the hood? damn right it is*  \n",
    "*damn right it is*"
   ]
  },
  {
   "cell_type": "markdown",
   "metadata": {},
   "source": [
    "## \"Passing parameters\"\n",
    "If we want our function to manipulate some data, we can add **\"parameters\"** into the definition of the function. Then any time we try and call it, we will need to provide something. \n",
    "\n",
    "We've already seen examples of this:"
   ]
  },
  {
   "cell_type": "code",
   "execution_count": 4,
   "metadata": {},
   "outputs": [],
   "source": [
    "# Some in-built python functions which we've met allow/require us to pass parameters in\n",
    "\n",
    "input(\"We can pass a string to the input function\")\n",
    "\n",
    "len(['need', 'to', 'pass', 'something', 'to', 'get', 'its', 'length'])"
   ]
  },
  {
   "cell_type": "markdown",
   "metadata": {},
   "source": [
    "If they can do it, so can we!"
   ]
  },
  {
   "cell_type": "code",
   "execution_count": 13,
   "metadata": {},
   "outputs": [],
   "source": [
    "# Create a function which prints the first and last characters of a string\n",
    "def first_and_last(some_string):\n",
    "    print(some_string[0] + some_string[-1])\n",
    "\n",
    "first_and_last(\"abcde\")"
   ]
  },
  {
   "cell_type": "markdown",
   "metadata": {},
   "source": [
    "*ae*"
   ]
  },
  {
   "cell_type": "code",
   "execution_count": 9,
   "metadata": {},
   "outputs": [],
   "source": [
    "# But, we HAVE to pass something compatible!\n",
    "first_and_last()     # ERROR - Need to pass something!\n",
    "first_and_last(1321) # ERROR - We can't use variable[index] on integers"
   ]
  },
  {
   "cell_type": "code",
   "execution_count": 10,
   "metadata": {},
   "outputs": [],
   "source": [
    "# Need to think about these things!\n",
    "def first_and_last_v2(mebbe_string):\n",
    "    defo_string = str(mebbe_string) # Now we can be sure!\n",
    "    print(defo_string)"
   ]
  },
  {
   "cell_type": "markdown",
   "metadata": {},
   "source": [
    "# File I/O"
   ]
  },
  {
   "cell_type": "markdown",
   "metadata": {},
   "source": [
    "Python has a convenient set of functions which we can use to manipulate files. (Useful stuff - For example, I created a python script over summer to automatically fill out and send PDF forms for booking piano rooms at my internship)."
   ]
  },
  {
   "cell_type": "markdown",
   "metadata": {},
   "source": [
    "## Open and Close (Do we teach [with]?)\n"
   ]
  },
  {
   "cell_type": "markdown",
   "metadata": {},
   "source": [
    "Before we can manipulate files, we need to open / create them. To open a file we use the **open()** function and store a \"link\" to the file in a variable.\n",
    "* If we want to write to the file, we specify **open(\"file_name\", \"w\")**\n",
    "* If we want to read the file, we specify **open(\"file_name\", \"r\")** \n",
    "* There are more options - see the documentation at https://docs.python.org/3/library/functions.html#open\n",
    "\n",
    "Once we're done with the file, we call **.close()** on the file link to close it"
   ]
  },
  {
   "cell_type": "code",
   "execution_count": 9,
   "metadata": {},
   "outputs": [],
   "source": [
    "# Create a file called \"my_file.txt\"\n",
    "\n",
    "new_file = open(\"my_file.txt\", \"w\")\n",
    "\n",
    "new_file.close() # Close the file"
   ]
  },
  {
   "cell_type": "markdown",
   "metadata": {},
   "source": [
    "## Write\n",
    "The simplest way to add to our file is by using the **.write()** function *on* the variable containing the file:"
   ]
  },
  {
   "cell_type": "code",
   "execution_count": 3,
   "metadata": {},
   "outputs": [],
   "source": [
    "new_file = open(\"my_second_file.txt\", \"w\")"
   ]
  },
  {
   "cell_type": "code",
   "execution_count": null,
   "metadata": {},
   "outputs": [],
   "source": [
    "# We can write as many times as we want\n",
    "new_file.write(\"Stories outlive their authors\")\n",
    "new_file.write(\"\\n\") # Start a new line - could do this in the same write\n",
    "new_file.write(\"So too will these python class materials\")"
   ]
  },
  {
   "cell_type": "code",
   "execution_count": null,
   "metadata": {},
   "outputs": [],
   "source": [
    "new_file.close()"
   ]
  },
  {
   "cell_type": "markdown",
   "metadata": {},
   "source": [
    "## Read\n",
    "Sometimes we'd rather read the profound works of others than create our own. To this end, we can use\n",
    "* **.read(n)** to read the first **n** characters\n",
    "* **.readline()** to read the first line\n",
    "    * calling .readline() a second time reads the second line, etc."
   ]
  },
  {
   "cell_type": "code",
   "execution_count": 36,
   "metadata": {},
   "outputs": [
    {
     "name": "stdout",
     "output_type": "stream",
     "text": [
      "My mama\n"
     ]
    }
   ],
   "source": [
    "wisdom = open(\"profound.txt\", \"r\") # read in\n",
    "print(wisdom.read(7))\n",
    "wisdom.close()"
   ]
  },
  {
   "cell_type": "markdown",
   "metadata": {},
   "source": [
    "*My mama don't*"
   ]
  },
  {
   "cell_type": "code",
   "execution_count": 35,
   "metadata": {},
   "outputs": [],
   "source": [
    "wisdom = open(\"profound.txt\", \"r\") # read in\n",
    "print(wisdom.readline())\n",
    "print(wisdom.readline())\n",
    "wisdom.close()"
   ]
  },
  {
   "cell_type": "markdown",
   "metadata": {},
   "source": [
    "*My mama don't like you and she likes everyone*  \n",
    "*And I never like to admit that I was wrong*"
   ]
  },
  {
   "cell_type": "markdown",
   "metadata": {},
   "source": [
    "Extension:\n",
    "    * Recursion \n",
    "    * Dictionaries?"
   ]
  },
  {
   "cell_type": "code",
   "execution_count": null,
   "metadata": {},
   "outputs": [],
   "source": []
  }
 ],
 "metadata": {
  "kernelspec": {
   "display_name": "Python 3",
   "language": "python",
   "name": "python3"
  },
  "language_info": {
   "codemirror_mode": {
    "name": "ipython",
    "version": 3
   },
   "file_extension": ".py",
   "mimetype": "text/x-python",
   "name": "python",
   "nbconvert_exporter": "python",
   "pygments_lexer": "ipython3",
   "version": "3.6.6"
  }
 },
 "nbformat": 4,
 "nbformat_minor": 2
}
