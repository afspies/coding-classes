{
 "cells": [
  {
   "cell_type": "markdown",
   "metadata": {
    "slideshow": {
     "slide_type": "slide"
    }
   },
   "source": [
    "# Python Classes Week 6\n",
    "Finishing the essentials:\n",
    "* Functions\n",
    "* File I/O\n"
   ]
  },
  {
   "cell_type": "markdown",
   "metadata": {
    "slideshow": {
     "slide_type": "slide"
    }
   },
   "source": [
    "# Functions\n",
    "If we want to do the same thing in multiple places in our code then we can use *functions* rather than *copy pasting*"
   ]
  },
  {
   "cell_type": "markdown",
   "metadata": {
    "slideshow": {
     "slide_type": "subslide"
    }
   },
   "source": [
    "## Declaration\n",
    "We create functions using the **def** keyword - This process is called \"declaration\""
   ]
  },
  {
   "cell_type": "code",
   "execution_count": 12,
   "metadata": {
    "slideshow": {
     "slide_type": "fragment"
    }
   },
   "outputs": [],
   "source": [
    "# \"Declare\" a function\n",
    "def my_function():\n",
    "    print(\"I'm nOT DysFUnctIonaL!\")\n",
    "\n",
    "# \"Call\" the function twice\n",
    "my_function()\n",
    "my_function()"
   ]
  },
  {
   "cell_type": "markdown",
   "metadata": {
    "slideshow": {
     "slide_type": "fragment"
    }
   },
   "source": [
    "*I'm nOT DysFUnctIonaL!*  \n",
    "*I'm nOT DysFUnctIonaL!*"
   ]
  },
  {
   "cell_type": "markdown",
   "metadata": {
    "slideshow": {
     "slide_type": "slide"
    }
   },
   "source": [
    "## Returning\n",
    "Most of the time, we use functions to carry out an operation and collect the result. **return** allows us to get the function to give us an output."
   ]
  },
  {
   "cell_type": "code",
   "execution_count": 1,
   "metadata": {
    "slideshow": {
     "slide_type": "fragment"
    }
   },
   "outputs": [],
   "source": [
    "# Return lower-case user input from the function\n",
    "def get_lowercase_input():\n",
    "    user_input = input(\"All good in the hood? \")\n",
    "    user_input = user_input.lower() # Convert to lowercase\n",
    "    return user_input # <---"
   ]
  },
  {
   "cell_type": "code",
   "execution_count": 3,
   "metadata": {
    "slideshow": {
     "slide_type": "fragment"
    }
   },
   "outputs": [],
   "source": [
    "lowered_input = get_lowercase_input()\n",
    "print(lowered_input)"
   ]
  },
  {
   "cell_type": "markdown",
   "metadata": {
    "slideshow": {
     "slide_type": "fragment"
    }
   },
   "source": [
    "*All good in the hood? damn right it is*  \n",
    "*damn right it is*"
   ]
  },
  {
   "cell_type": "markdown",
   "metadata": {
    "slideshow": {
     "slide_type": "slide"
    }
   },
   "source": [
    "## \"Passing parameters\"\n",
    "If we want our function to manipulate some data, we can add **\"parameters\"** into the definition of the function. Then any time we try and call it, we will need to provide something. "
   ]
  },
  {
   "cell_type": "markdown",
   "metadata": {
    "slideshow": {
     "slide_type": "fragment"
    }
   },
   "source": [
    "We've already seen examples of this:"
   ]
  },
  {
   "cell_type": "code",
   "execution_count": 4,
   "metadata": {
    "slideshow": {
     "slide_type": "fragment"
    }
   },
   "outputs": [],
   "source": [
    "# Some in-built python functions\n",
    "\n",
    "input(\"We can pass a string to the input function\")\n",
    "\n",
    "len(['need', 'to', 'pass', 'something', 'to', 'get', 'its', 'length'])"
   ]
  },
  {
   "cell_type": "markdown",
   "metadata": {
    "slideshow": {
     "slide_type": "subslide"
    }
   },
   "source": [
    "If they can do it, so can we!"
   ]
  },
  {
   "cell_type": "code",
   "execution_count": 13,
   "metadata": {
    "slideshow": {
     "slide_type": "fragment"
    }
   },
   "outputs": [],
   "source": [
    "# Function prints the first and last character in string\n",
    "def first_and_last(some_string):\n",
    "    print(some_string[0] + some_string[-1])\n",
    "\n",
    "first_and_last(\"abcde\")"
   ]
  },
  {
   "cell_type": "markdown",
   "metadata": {
    "slideshow": {
     "slide_type": "fragment"
    }
   },
   "source": [
    "*ae*"
   ]
  },
  {
   "cell_type": "code",
   "execution_count": null,
   "metadata": {
    "slideshow": {
     "slide_type": "subslide"
    }
   },
   "outputs": [],
   "source": [
    "If the function takes a parameter, then we have to provide one"
   ]
  },
  {
   "cell_type": "code",
   "execution_count": 9,
   "metadata": {
    "slideshow": {
     "slide_type": "fragment"
    }
   },
   "outputs": [],
   "source": [
    "# But, we HAVE to pass something compatible!\n",
    "first_and_last()     # ERROR - Need to pass something!\n",
    "first_and_last(1321) # ERROR - We can't use variable[index] on integers"
   ]
  },
  {
   "cell_type": "code",
   "execution_count": 10,
   "metadata": {
    "slideshow": {
     "slide_type": "fragment"
    }
   },
   "outputs": [],
   "source": [
    "# Need to think about these things!\n",
    "def first_and_last_v2(mebbe_string):\n",
    "    defo_string = str(mebbe_string) # Now we can be sure!\n",
    "    print(defo_string)"
   ]
  },
  {
   "cell_type": "markdown",
   "metadata": {
    "slideshow": {
     "slide_type": "slide"
    }
   },
   "source": [
    "# File I/O"
   ]
  },
  {
   "cell_type": "markdown",
   "metadata": {
    "slideshow": {
     "slide_type": "fragment"
    }
   },
   "source": [
    "Python has a convenient set of functions which we can use to manipulate files.  "
   ]
  },
  {
   "cell_type": "markdown",
   "metadata": {
    "slideshow": {
     "slide_type": "slide"
    }
   },
   "source": [
    "## Open and Close\n"
   ]
  },
  {
   "cell_type": "markdown",
   "metadata": {
    "slideshow": {
     "slide_type": "fragment"
    }
   },
   "source": [
    "Before we can manipulate files, we need to open / create them. To open a file we use the **open()** function and store a \"link\" to the file in a variable."
   ]
  },
  {
   "cell_type": "markdown",
   "metadata": {
    "slideshow": {
     "slide_type": "fragment"
    }
   },
   "source": [
    "* If we want to write to the file: **open(\"file_name\", \"w\")**\n",
    "* If we want to read fom the file: **open(\"file_name\", \"r\")** \n",
    "* There are more options - see the documentation at https://docs.python.org/3/library/functions.html#open"
   ]
  },
  {
   "cell_type": "markdown",
   "metadata": {
    "slideshow": {
     "slide_type": "fragment"
    }
   },
   "source": [
    "Once we're done with the file, we call **.close()** on the file link to close it"
   ]
  },
  {
   "cell_type": "code",
   "execution_count": 9,
   "metadata": {
    "slideshow": {
     "slide_type": "subslide"
    }
   },
   "outputs": [],
   "source": [
    "# Create a file called \"my_file.txt\"\n",
    "new_file = open(\"my_file.txt\", \"w\")"
   ]
  },
  {
   "cell_type": "code",
   "execution_count": null,
   "metadata": {
    "slideshow": {
     "slide_type": "fragment"
    }
   },
   "outputs": [],
   "source": [
    "# Close the file\n",
    "new_file.close() "
   ]
  },
  {
   "cell_type": "markdown",
   "metadata": {
    "slideshow": {
     "slide_type": "slide"
    }
   },
   "source": [
    "## Write\n",
    "The simplest way to add to our file is by using the **.write()** function *on* the variable containing the file:"
   ]
  },
  {
   "cell_type": "code",
   "execution_count": 3,
   "metadata": {
    "slideshow": {
     "slide_type": "fragment"
    }
   },
   "outputs": [],
   "source": [
    "new_file = open(\"my_second_file.txt\", \"w\")"
   ]
  },
  {
   "cell_type": "code",
   "execution_count": null,
   "metadata": {
    "slideshow": {
     "slide_type": "fragment"
    }
   },
   "outputs": [],
   "source": [
    "# We can write as many times as we want\n",
    "\n",
    "new_file.write(\"Stories outlive their authors\")\n",
    "new_file.write(\"\\n\") # Start a new line\n",
    "new_file.write(\"So too will these python class materials\")"
   ]
  },
  {
   "cell_type": "code",
   "execution_count": null,
   "metadata": {
    "slideshow": {
     "slide_type": "fragment"
    }
   },
   "outputs": [],
   "source": [
    "new_file.close()"
   ]
  },
  {
   "cell_type": "markdown",
   "metadata": {
    "slideshow": {
     "slide_type": "slide"
    }
   },
   "source": [
    "## Read\n",
    "Sometimes we'd rather read the profound works of others than create our own. To this end, we can use\n",
    "* **.read(n)** to read the first **n** characters\n",
    "* **.readline()** to read the first line\n",
    "    * calling .readline() a second time reads the second line, etc."
   ]
  },
  {
   "cell_type": "code",
   "execution_count": 1,
   "metadata": {
    "slideshow": {
     "slide_type": "subslide"
    }
   },
   "outputs": [],
   "source": [
    "wisdom = open(\"profound.txt\", \"r\") # read in\n",
    "\n",
    "print(wisdom.read(7))\n",
    "\n",
    "wisdom.close()"
   ]
  },
  {
   "cell_type": "markdown",
   "metadata": {
    "slideshow": {
     "slide_type": "fragment"
    }
   },
   "source": [
    "*My mama*"
   ]
  },
  {
   "cell_type": "code",
   "execution_count": 35,
   "metadata": {
    "slideshow": {
     "slide_type": "subslide"
    }
   },
   "outputs": [],
   "source": [
    "wisdom = open(\"profound.txt\", \"r\") # read in\n",
    "\n",
    "print(wisdom.readline())\n",
    "print(wisdom.readline())\n",
    "\n",
    "wisdom.close()"
   ]
  },
  {
   "cell_type": "markdown",
   "metadata": {
    "slideshow": {
     "slide_type": "fragment"
    }
   },
   "source": [
    "*My mama don't like you and she likes everyone*  \n",
    "*And I never like to admit that I was wrong*"
   ]
  },
  {
   "cell_type": "markdown",
   "metadata": {
    "slideshow": {
     "slide_type": "slide"
    }
   },
   "source": [
    "# Upcoming\n",
    "We've almost finished with the basics - now we'll be able to start playing with more complicated, and **fun** stuff!\n",
    "* APIs - Twitter, Spotify\n",
    "* Projects!"
   ]
  },
  {
   "cell_type": "markdown",
   "metadata": {
    "slideshow": {
     "slide_type": "skip"
    }
   },
   "source": [
    "# Extensions\n",
    "## Recursion\n",
    "Recursion is a fun and occasionally useful concept. It refers to the ability to have functions **call themselves** "
   ]
  },
  {
   "cell_type": "code",
   "execution_count": 6,
   "metadata": {
    "slideshow": {
     "slide_type": "skip"
    }
   },
   "outputs": [],
   "source": [
    "# A recursive function calls itself\n",
    "\n",
    "# This function will count down to zero\n",
    "def count_down(number):\n",
    "    print(number)\n",
    "    if (number > 0): # Stop recursing once we've reached 0\n",
    "        count_down(number - 1) # \"Recursive\" call!\n",
    "    \n",
    "count_down(3) # Will print 3 2 1 0"
   ]
  },
  {
   "cell_type": "markdown",
   "metadata": {
    "slideshow": {
     "slide_type": "skip"
    }
   },
   "source": [
    "## Dictionaries\n",
    "Along with lists, dictionaries are amongst the most useful and commonly used datastructures. Dictionaries allow us to store *Key : Value* pairs. \n",
    "\n",
    "Whereas lists are created using [], we create dictionaries using {}"
   ]
  },
  {
   "cell_type": "code",
   "execution_count": 11,
   "metadata": {},
   "outputs": [],
   "source": [
    "# Create a dictionary\n",
    "my_dict = {\"name\" : \"alex\", \"age\" : 21, 1 : \"one\"}\n",
    "\n",
    "print(my_dict[\"age\"])\n",
    "\n",
    "my_dict[\"age\"] = 17 # Change my name\n",
    "\n",
    "print(my_dict[\"age\"])"
   ]
  },
  {
   "cell_type": "markdown",
   "metadata": {},
   "source": [
    "21  \n",
    "17"
   ]
  },
  {
   "cell_type": "markdown",
   "metadata": {},
   "source": [
    "Naturally, we can also use for loops to iterate through our dictionary"
   ]
  },
  {
   "cell_type": "code",
   "execution_count": 12,
   "metadata": {},
   "outputs": [],
   "source": [
    "# Would have been useful for our username-password checking:\n",
    "users = {\"alex\" : \"password123\", \"frank\" : \"L0LPr0\"}\n",
    "\n",
    "for user in users:\n",
    "    print(\"Username is \" + user)\n",
    "    print(\"Password is \" + users[user])"
   ]
  },
  {
   "cell_type": "markdown",
   "metadata": {},
   "source": [
    "Username is alex  \n",
    "Password is password123  \n",
    "Username is frank  \n",
    "Password is L0LPr0"
   ]
  }
 ],
 "metadata": {
  "celltoolbar": "Slideshow",
  "kernelspec": {
   "display_name": "Python 3",
   "language": "python",
   "name": "python3"
  },
  "language_info": {
   "codemirror_mode": {
    "name": "ipython",
    "version": 3
   },
   "file_extension": ".py",
   "mimetype": "text/x-python",
   "name": "python",
   "nbconvert_exporter": "python",
   "pygments_lexer": "ipython3",
   "version": "3.6.7"
  }
 },
 "nbformat": 4,
 "nbformat_minor": 2
}
