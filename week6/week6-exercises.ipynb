{
 "cells": [
  {
   "cell_type": "markdown",
   "metadata": {},
   "source": [
    "# Week 6 Exercises\n",
    "## Fun with Functions\n",
    "### Maximal entertainment\n",
    "Create a function which takes in a list and prints out the biggest value in the list (**don't** use pythons max() function!)\n",
    "\n",
    "#### Extension 1\n",
    "Instead, **return** the maximum value and print it outside of the function\n",
    "\n",
    "### Sum thing to do\n",
    "Create a function which accepts a **list** of numbers and prints the **sum** of all the numbers\n",
    "\n",
    "#### Extension 1\n",
    "Get your function to return the **average** value in the list (You'll want to use len())\n",
    "\n",
    "## File I/O\n",
    "### Create\n",
    "Create a file called **averages.txt** and store the results from the function you created in the previous exercise inside of that file.\n",
    "#### Extension\n",
    "Append to the file rather than overwriting by using the \"a\" parameter instead of \"w\".\n",
    "### Read\n",
    "Read in the **poem.txt** file:\n",
    "* print out the sentence created by taking\n",
    "        * First word from first line\n",
    "        * Second word from second line\n",
    "        * etc.\n",
    "Hint: Remember the .split(\" \") function?\n",
    "\n",
    "## Challenge - Wherefore art thou paragraph\n",
    "Read the shakespeare.txt file:\n",
    "    * Create a function which returns the first **N** paragraphs from the file\n",
    "    * Make use of the fact that the line preceding each paragraph contains the corresponding paragraph number\n",
    "*Hints* \n",
    "    1. Use a while loop to carry out .readlines() until you reach the end of a paragraph  \n",
    "    2. Create a function which returns one paragraph, and put it inside another function which calls it N times"
   ]
  }
 ],
 "metadata": {
  "kernelspec": {
   "display_name": "Python 3",
   "language": "python",
   "name": "python3"
  },
  "language_info": {
   "codemirror_mode": {
    "name": "ipython",
    "version": 3
   },
   "file_extension": ".py",
   "mimetype": "text/x-python",
   "name": "python",
   "nbconvert_exporter": "python",
   "pygments_lexer": "ipython3",
   "version": "3.6.6"
  }
 },
 "nbformat": 4,
 "nbformat_minor": 2
}
