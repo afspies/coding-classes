{
 "cells": [
  {
   "cell_type": "markdown",
   "metadata": {},
   "source": [
    "# Week 8 - Exercises\n",
    "## Spotipy Tips\n",
    "We've provided some functions to streamline the process of using Spotipy. **Note** If you don't have a spotify account, and don't want to make one, ask a willing TA to login for you\n",
    "\n",
    "To create a useable \"instance\" of a spotify \"object\" from which you will call functions, make use of the provided login() function (you'll have to import this). \n",
    "\n",
    "Simple examples of how to use most of the functions you'll need have been provided in the week8-examples file (We'll go through this at the start of the session).\n",
    "## Simply the best\n",
    "The workshop TAs are very tasteful (or so we think) - put this theory to the test:\n",
    "1. Extract Alex's (or another TA who is prepared) most played songs - their IDs are in the example\n",
    "2. Create a new playlist out of these - Recommended name: \"Best Songs Ever\"\n",
    "3. Try and identify the key song features present in these songs, and sort by the most dominant\n",
    "    * I.e. what is their favorite genre?\n",
    "    * What is the average length of a song they listen to?\n",
    "\n",
    "## Play it\n",
    "1. Add your favorite song to the python class playlist using the add_song() function we've provided \n",
    "2. Try and control the music being played by making use of relevant functions provided by spotipy\n",
    "\n",
    "## Challenge: Recommend\n",
    "Use spotify's recommendation functions to find new songs that you or your TA of choice might enjoy and construct a playlist out of these.\n",
    "\n"
   ]
  }
 ],
 "metadata": {
  "kernelspec": {
   "display_name": "Python 3",
   "language": "python",
   "name": "python3"
  },
  "language_info": {
   "codemirror_mode": {
    "name": "ipython",
    "version": 3
   },
   "file_extension": ".py",
   "mimetype": "text/x-python",
   "name": "python",
   "nbconvert_exporter": "python",
   "pygments_lexer": "ipython3",
   "version": "3.6.7"
  }
 },
 "nbformat": 4,
 "nbformat_minor": 2
}
