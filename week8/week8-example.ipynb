{
 "cells": [
  {
   "cell_type": "code",
   "execution_count": 119,
   "metadata": {},
   "outputs": [
    {
     "name": "stdout",
     "output_type": "stream",
     "text": [
      "\n",
      "\n",
      "            User authentication requires interaction with your\n",
      "            web browser. Once you enter your credentials and\n",
      "            give authorization, you will be redirected to\n",
      "            a url.  Paste that url you were directed to to\n",
      "            complete the authorization.\n",
      "\n",
      "        \n",
      "Opened https://accounts.spotify.com/authorize?client_id=76b2fa9353c84080a56db4ab3857503b&response_type=code&redirect_uri=http%3A%2F%2Flocalhost%2F&scope=playlist-modify-public+user-modify-playback-state in your browser\n",
      "\n",
      "\n",
      "Enter the URL you were redirected to: http://localhost/?code=AQA1I_Xn3kIHgP_qLoP8hKZwvrl9u8WKMreXx9udD-g46QKAKJX9nfCObDQqE5jMJ3Fo5Ckf23B8_H_rZ1bZfOXPzTWV0XHr08vKRWsGZQbMzN06j-4vclJdk9OXnhHWsPC_nWr6jjD6CcwIFkc94OEDeJQ7F1xtQpEFkdhBhdrUQTHXs1d2FOENer9KLC8mOUEVx8ori5aCJ73i2v66Ow20mLwpU8QC-CdGV_GeOMVMJRQtVn8t_AiFlkan\n",
      "\n",
      "\n"
     ]
    }
   ],
   "source": [
    "import spotipy\n",
    "import spotipy.util as util\n",
    "from useful_functions import *\n",
    "\n",
    "def login():\n",
    "    import spotipy \n",
    "    import spotipy.util as util\n",
    "    scope = 'playlist-modify-public user-modify-playback-state'\n",
    "    token = util.prompt_for_user_token('Python Classes',scope,\n",
    "                client_id='76b2fa9353c84080a56db4ab3857503b',\n",
    "                client_secret='5b99dc662e3f47b188ea08bdf706669a',\n",
    "                redirect_uri='http://localhost/')\n",
    "\n",
    "    return spotipy.Spotify(auth=token)\n",
    "\n",
    "def show_picture(url):\n",
    "    from PIL import Image\n",
    "    import requests\n",
    "    from io import BytesIO\n",
    "    response = requests.get(url)\n",
    "    img = Image.open(BytesIO(response.content))\n",
    "    img.show()\n",
    "    return\n",
    "\n",
    "spotify = login() # "
   ]
  },
  {
   "cell_type": "code",
   "execution_count": 120,
   "metadata": {},
   "outputs": [
    {
     "name": "stdout",
     "output_type": "stream",
     "text": [
      "dict_keys(['external_urls', 'followers', 'genres', 'href', 'id', 'images', 'name', 'popularity', 'type', 'uri'])\n"
     ]
    }
   ],
   "source": [
    "# Look up an artist\n",
    "results = spotify.search(q='artist:abba', type='artist')\n",
    "items = results['artists']['items']\n",
    "\n",
    "abba = items[0]    # There could be other bands called 'abbalicious' etc.\n",
    "print(abba.keys()) # See what kind of information we can get\n",
    "\n",
    "show_picture(abba['images'][0]['url'])"
   ]
  },
  {
   "cell_type": "code",
   "execution_count": 121,
   "metadata": {},
   "outputs": [
    {
     "name": "stdout",
     "output_type": "stream",
     "text": [
      "Dancing Queen\n"
     ]
    }
   ],
   "source": [
    "# Get ABBA's most popular song\n",
    "abba_id = abba['id']\n",
    "best_songs = spotify.artist_top_tracks(abba_id, country='GB')\n",
    "best_song = best_songs['tracks'][0]\n",
    "print(best_song['name']) # Hell yes"
   ]
  },
  {
   "cell_type": "code",
   "execution_count": 122,
   "metadata": {},
   "outputs": [],
   "source": [
    "# Add ABBA's most popular song to the playlist\n",
    "username = 'alexspies'\n",
    "track_id = best_song['id']\n",
    "\n",
    "def add_song(username, playlist_id='7mygqiVTPoGfxuRF5xequX', tracks, spotify_obj):\n",
    "    if isinstance(tracks, str):\n",
    "        tracks = [tracks]\n",
    "    spotify_obj.user_playlist_add_tracks(username, playlist_id, tracks)\n",
    "\n",
    "add_song(username, track_id, spotify)"
   ]
  },
  {
   "cell_type": "code",
   "execution_count": 132,
   "metadata": {},
   "outputs": [
    {
     "ename": "AttributeError",
     "evalue": "'Spotify' object has no attribute 'next_track'",
     "output_type": "error",
     "traceback": [
      "\u001b[0;31m---------------------------------------------------------------------------\u001b[0m",
      "\u001b[0;31mAttributeError\u001b[0m                            Traceback (most recent call last)",
      "\u001b[0;32m<ipython-input-132-453574d4fae1>\u001b[0m in \u001b[0;36m<module>\u001b[0;34m()\u001b[0m\n\u001b[1;32m      2\u001b[0m \u001b[0muser\u001b[0m \u001b[0;34m=\u001b[0m \u001b[0mspotify\u001b[0m\u001b[0;34m.\u001b[0m\u001b[0muser\u001b[0m\u001b[0;34m(\u001b[0m\u001b[0;34m'alexspies'\u001b[0m\u001b[0;34m)\u001b[0m\u001b[0;34m\u001b[0m\u001b[0;34m\u001b[0m\u001b[0m\n\u001b[1;32m      3\u001b[0m \u001b[0;34m\u001b[0m\u001b[0m\n\u001b[0;32m----> 4\u001b[0;31m \u001b[0mspotify\u001b[0m\u001b[0;34m.\u001b[0m\u001b[0mnext_track\u001b[0m\u001b[0;34m(\u001b[0m\u001b[0;34m)\u001b[0m\u001b[0;34m\u001b[0m\u001b[0;34m\u001b[0m\u001b[0m\n\u001b[0m",
      "\u001b[0;31mAttributeError\u001b[0m: 'Spotify' object has no attribute 'next_track'"
     ]
    }
   ],
   "source": [
    "# Skip the song\n",
    "user = spotify.user('alexspies')\n",
    "\n",
    "spotify.next_track()"
   ]
  },
  {
   "cell_type": "code",
   "execution_count": null,
   "metadata": {},
   "outputs": [],
   "source": []
  }
 ],
 "metadata": {
  "kernelspec": {
   "display_name": "Python 3",
   "language": "python",
   "name": "python3"
  },
  "language_info": {
   "codemirror_mode": {
    "name": "ipython",
    "version": 3
   },
   "file_extension": ".py",
   "mimetype": "text/x-python",
   "name": "python",
   "nbconvert_exporter": "python",
   "pygments_lexer": "ipython3",
   "version": "3.6.7"
  }
 },
 "nbformat": 4,
 "nbformat_minor": 2
}
