{
 "cells": [
  {
   "cell_type": "code",
   "execution_count": 7,
   "metadata": {},
   "outputs": [],
   "source": [
    "# %load useful_functions.py\n",
    "# This is only here because Jupyter sucks\n",
    "def login():\n",
    "    import spotipy_new as spotipy\n",
    "    import spotipy_new.util as util\n",
    "    scope = 'playlist-modify-public user-modify-playback-state'\n",
    "    token = util.prompt_for_user_token('Python Classes',scope,\n",
    "                client_id='76b2fa9353c84080a56db4ab3857503b',\n",
    "                client_secret='5b99dc662e3f47b188ea08bdf706669a',\n",
    "                redirect_uri='http://localhost/')\n",
    "\n",
    "    return spotipy.Spotify(auth=token)\n",
    "\n",
    "def show_picture(url):\n",
    "    from PIL import Image\n",
    "    import requests\n",
    "    from io import BytesIO\n",
    "    response = requests.get(url)\n",
    "    img = Image.open(BytesIO(response.content))\n",
    "    img.show()\n",
    "    return\n",
    "\n",
    "def add_song(username, tracks, spotify_obj, playlist_id='7mygqiVTPoGfxuRF5xequX'):\n",
    "    if isinstance(tracks, str):\n",
    "        tracks = [tracks]\n",
    "    spotify_obj.user_playlist_add_tracks(username, playlist_id, tracks)\n",
    "# ^ IGNORE THIS STUFF ^\n"
   ]
  },
  {
   "cell_type": "code",
   "execution_count": 8,
   "metadata": {},
   "outputs": [],
   "source": [
    "import spotipy\n",
    "import spotipy.util as util\n",
    "\n",
    "spotify = login()  # This bit is a pain"
   ]
  },
  {
   "cell_type": "code",
   "execution_count": 9,
   "metadata": {},
   "outputs": [
    {
     "name": "stdout",
     "output_type": "stream",
     "text": [
      "dict_keys(['external_urls', 'followers', 'genres', 'href', 'id', 'images', 'name', 'popularity', 'type', 'uri'])\n"
     ]
    }
   ],
   "source": [
    "# Look up an artist\n",
    "results = spotify.search(q='artist:abba', type='artist')\n",
    "items = results['artists']['items']\n",
    "\n",
    "abba = items[0]    # There could be other bands called 'abbalicious' etc.\n",
    "print(abba.keys()) # See what kind of information we can get\n",
    "\n",
    "show_picture(abba['images'][0]['url']) # Why not"
   ]
  },
  {
   "cell_type": "code",
   "execution_count": 10,
   "metadata": {},
   "outputs": [
    {
     "name": "stdout",
     "output_type": "stream",
     "text": [
      "Dancing Queen\n"
     ]
    }
   ],
   "source": [
    "# Get ABBA's most popular song\n",
    "abba_id = abba['id']\n",
    "best_songs = spotify.artist_top_tracks(abba_id, country='GB')\n",
    "best_song = best_songs['tracks'][0]\n",
    "print(best_song['name']) # Hell yes"
   ]
  },
  {
   "cell_type": "code",
   "execution_count": 11,
   "metadata": {},
   "outputs": [],
   "source": [
    "# Add ABBA's most popular song to the playlist\n",
    "username = 'alexspies'\n",
    "track_id = best_song['id']\n",
    "add_song(username, track_id, spotify)"
   ]
  },
  {
   "cell_type": "code",
   "execution_count": 12,
   "metadata": {},
   "outputs": [],
   "source": [
    "# Skip the song\n",
    "user = spotify.user('alexspies')\n",
    "spotify.next_track()\n",
    "1j5RtavNKX1nAoSb1VAGUL"
   ]
  },
  {
   "cell_type": "code",
   "execution_count": null,
   "metadata": {},
   "outputs": [],
   "source": [
    "Aayush: '21eoxxwqwmsrn45xwtil527sy'\n",
    "Alex : 'alexspies'\n",
    "Joe: 'joe.blackmore7'\n",
    "Luke: 'beamister'"
   ]
  }
 ],
 "metadata": {
  "kernelspec": {
   "display_name": "Python 3",
   "language": "python",
   "name": "python3"
  },
  "language_info": {
   "codemirror_mode": {
    "name": "ipython",
    "version": 3
   },
   "file_extension": ".py",
   "mimetype": "text/x-python",
   "name": "python",
   "nbconvert_exporter": "python",
   "pygments_lexer": "ipython3",
   "version": "3.6.7"
  }
 },
 "nbformat": 4,
 "nbformat_minor": 2
}
