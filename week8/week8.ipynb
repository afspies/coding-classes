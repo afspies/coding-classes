{
 "cells": [
  {
   "cell_type": "markdown",
   "metadata": {
    "slideshow": {
     "slide_type": "slide"
    }
   },
   "source": [
    "# Python Classes Week 8\n",
    "* Dictionaries\n",
    "* Spotipy"
   ]
  },
  {
   "cell_type": "markdown",
   "metadata": {
    "slideshow": {
     "slide_type": "slide"
    }
   },
   "source": [
    "# Dictionaries\n",
    "Much of data you'll be given by the Spotipy module will be provided in dictonaries. \n",
    "\n",
    "Alongside lists, these are amongst the most commonly used of python's built-\n",
    "in datastructures"
   ]
  },
  {
   "cell_type": "markdown",
   "metadata": {
    "slideshow": {
     "slide_type": "fragment"
    }
   },
   "source": [
    "Dictonaries allow us to associate \"keys\" with a set of \"values\", in so called **\"key-value pairs\"**"
   ]
  },
  {
   "cell_type": "markdown",
   "metadata": {
    "slideshow": {
     "slide_type": "fragment"
    }
   },
   "source": [
    "E.g.  \n",
    "\"name\" : \"Donald\"  \n",
    "\"age\" : 31  \n",
    "\"job\" : \"POTUS\"  "
   ]
  },
  {
   "cell_type": "code",
   "execution_count": null,
   "metadata": {
    "slideshow": {
     "slide_type": "subslide"
    }
   },
   "outputs": [],
   "source": [
    "# Create a dictionary\n",
    "my_dict = {\"name\" : \"alex\", \"age\" : 21, 1 : \"one\"}\n",
    "\n",
    "print(my_dict[\"age\"])"
   ]
  },
  {
   "cell_type": "markdown",
   "metadata": {
    "slideshow": {
     "slide_type": "fragment"
    }
   },
   "source": [
    "*21*"
   ]
  },
  {
   "cell_type": "code",
   "execution_count": null,
   "metadata": {
    "slideshow": {
     "slide_type": "subslide"
    }
   },
   "outputs": [],
   "source": [
    "my_dict[\"age\"] = 17 # Change entry\n",
    "\n",
    "print(my_dict[\"age\"])"
   ]
  },
  {
   "cell_type": "markdown",
   "metadata": {
    "slideshow": {
     "slide_type": "fragment"
    }
   },
   "source": [
    "*17*"
   ]
  },
  {
   "cell_type": "markdown",
   "metadata": {
    "slideshow": {
     "slide_type": "slide"
    }
   },
   "source": [
    "## Iteration\n",
    "As we did with lists, we can loop through dictonaries too.\n",
    "\n",
    "By default, the loop will go through all **keys**"
   ]
  },
  {
   "cell_type": "code",
   "execution_count": null,
   "metadata": {
    "slideshow": {
     "slide_type": "fragment"
    }
   },
   "outputs": [],
   "source": [
    "# Would have been useful for our username-password checking:\n",
    "users = {\"alex\" : \"password123\", \"frank\" : \"L0LPr0\"}\n",
    "\n",
    "for user in users:\n",
    "    print(\"Username is \" + user)\n",
    "    print(\"Password is \" + users[user])"
   ]
  },
  {
   "cell_type": "markdown",
   "metadata": {
    "slideshow": {
     "slide_type": "slide"
    }
   },
   "source": [
    "# Spotipy\n",
    "Spotipy is a python library which allows us to make use of the spotify API (\"Application programming interface\")\n",
    "\n",
    "There are many things we can do using this, so you'll want to look at the documentation to find what you think you need."
   ]
  },
  {
   "cell_type": "markdown",
   "metadata": {
    "slideshow": {
     "slide_type": "fragment"
    }
   },
   "source": [
    "We've provided spotipy in the github folder - you'll want to use this as the pip version is outdated"
   ]
  },
  {
   "cell_type": "code",
   "execution_count": null,
   "metadata": {
    "slideshow": {
     "slide_type": "fragment"
    }
   },
   "outputs": [],
   "source": [
    "import spotipy_new as spotipy"
   ]
  },
  {
   "cell_type": "markdown",
   "metadata": {
    "slideshow": {
     "slide_type": "slide"
    }
   },
   "source": [
    "## Example\n",
    "In order to connect to Spotify's online server, and start issuing commands, we need to do a few things. \n",
    "* We've created some functions that hide most of the this tedious complexity\n",
    "* There is a detailed example of how to use these functions - walk through"
   ]
  },
  {
   "cell_type": "markdown",
   "metadata": {
    "slideshow": {
     "slide_type": "slide"
    }
   },
   "source": [
    "# Go!\n",
    "You have a fair amount of freedom this session - The exercises are just a starting point!\n",
    "\n",
    "Documentation: **spotipy.readthedocs.io**"
   ]
  },
  {
   "cell_type": "code",
   "execution_count": null,
   "metadata": {
    "slideshow": {
     "slide_type": "skip"
    }
   },
   "outputs": [],
   "source": [
    "Next time - OOP? Projects? "
   ]
  },
  {
   "cell_type": "code",
   "execution_count": null,
   "metadata": {
    "slideshow": {
     "slide_type": "skip"
    }
   },
   "outputs": [],
   "source": []
  }
 ],
 "metadata": {
  "celltoolbar": "Slideshow",
  "kernelspec": {
   "display_name": "Python 3",
   "language": "python",
   "name": "python3"
  },
  "language_info": {
   "codemirror_mode": {
    "name": "ipython",
    "version": 3
   },
   "file_extension": ".py",
   "mimetype": "text/x-python",
   "name": "python",
   "nbconvert_exporter": "python",
   "pygments_lexer": "ipython3",
   "version": "3.6.7"
  }
 },
 "nbformat": 4,
 "nbformat_minor": 2
}
