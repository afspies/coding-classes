{
 "cells": [
  {
   "cell_type": "markdown",
   "metadata": {
    "slideshow": {
     "slide_type": "slide"
    }
   },
   "source": [
    "# Python Classes - Week 5\n",
    "* Recap:\n",
    "    * While\n",
    "    * Lists\n",
    "* More on lists\n",
    "* **For** statements"
   ]
  },
  {
   "cell_type": "markdown",
   "metadata": {
    "slideshow": {
     "slide_type": "slide"
    }
   },
   "source": [
    "# Recap"
   ]
  },
  {
   "cell_type": "markdown",
   "metadata": {
    "slideshow": {
     "slide_type": "fragment"
    }
   },
   "source": [
    "## While loops\n",
    "Before reading week (a long time ago), we covered while loops"
   ]
  },
  {
   "cell_type": "markdown",
   "metadata": {
    "slideshow": {
     "slide_type": "fragment"
    }
   },
   "source": [
    "* With while loops, we were able to ensure that a condition was met before our code moved on"
   ]
  },
  {
   "cell_type": "markdown",
   "metadata": {
    "slideshow": {
     "slide_type": "fragment"
    }
   },
   "source": [
    "* However, we also saw that multiple conditions in a while statement means we can't be certain why we left the loop"
   ]
  },
  {
   "cell_type": "code",
   "execution_count": null,
   "metadata": {
    "slideshow": {
     "slide_type": "subslide"
    }
   },
   "outputs": [],
   "source": [
    "# A simple while loop\n",
    "i = 0\n",
    "while i < len(numbers):\n",
    "    print(numbers[i])\n",
    "    i = i + 1"
   ]
  },
  {
   "cell_type": "markdown",
   "metadata": {
    "slideshow": {
     "slide_type": "fragment"
    }
   },
   "source": [
    "0  \n",
    "1  \n",
    "2  \n",
    "3  "
   ]
  },
  {
   "cell_type": "markdown",
   "metadata": {
    "slideshow": {
     "slide_type": "slide"
    }
   },
   "source": [
    "## Lists\n",
    "Lists were the first signficant \"datastructure\" we've used. We saw how lists could allow us to create a database of username/password combinations, without needing to write hundreds of if/elif/elif... statements"
   ]
  },
  {
   "cell_type": "code",
   "execution_count": null,
   "metadata": {
    "slideshow": {
     "slide_type": "fragment"
    }
   },
   "outputs": [],
   "source": [
    "my_list = [1, \"two\", 3 , \"four\", 17]"
   ]
  },
  {
   "cell_type": "markdown",
   "metadata": {
    "slideshow": {
     "slide_type": "slide"
    }
   },
   "source": [
    "## Range function\n",
    "Python's in-built range function can generate lists of numbers for us"
   ]
  },
  {
   "cell_type": "code",
   "execution_count": 17,
   "metadata": {
    "slideshow": {
     "slide_type": "fragment"
    }
   },
   "outputs": [],
   "source": [
    "numbers = range(0,4)\n",
    "print(list(numbers))"
   ]
  },
  {
   "cell_type": "markdown",
   "metadata": {
    "slideshow": {
     "slide_type": "fragment"
    }
   },
   "source": [
    "0  \n",
    "1  \n",
    "2  \n",
    "3  "
   ]
  },
  {
   "cell_type": "markdown",
   "metadata": {
    "slideshow": {
     "slide_type": "slide"
    }
   },
   "source": [
    "### List Slicing\n",
    "We can use list slicing's colon notation, to access sub-sections of our lists"
   ]
  },
  {
   "cell_type": "markdown",
   "metadata": {
    "slideshow": {
     "slide_type": "fragment"
    }
   },
   "source": [
    "* This works like **my_list[begin : end : step_size]**"
   ]
  },
  {
   "cell_type": "markdown",
   "metadata": {
    "slideshow": {
     "slide_type": "fragment"
    }
   },
   "source": [
    "**Note** you don't need to specify all three of these, python will take default values:\n",
    "\n",
    "* begin - start of list\n",
    "* end - end of list\n",
    "* step_size - 1 item"
   ]
  },
  {
   "cell_type": "code",
   "execution_count": 20,
   "metadata": {
    "slideshow": {
     "slide_type": "subslide"
    }
   },
   "outputs": [],
   "source": [
    "sentence = [\"What\", \"A\", \"Great\", \",\", \"Guy\",\"Never\",\"Said\", \"Anything\",\"Bad\"]\n",
    "\n",
    "# Emulate the media\n",
    "out_of_context = sentence[4:8:1] # Get part of the list\n",
    "print(out_of_context)"
   ]
  },
  {
   "cell_type": "markdown",
   "metadata": {
    "slideshow": {
     "slide_type": "fragment"
    }
   },
   "source": [
    "['Guy', 'Never', 'Said', 'Anything']"
   ]
  },
  {
   "cell_type": "markdown",
   "metadata": {
    "slideshow": {
     "slide_type": "slide"
    }
   },
   "source": [
    "### List operations\n",
    "We can add and multiply lists using the familiar **+** and * operators:"
   ]
  },
  {
   "cell_type": "code",
   "execution_count": 22,
   "metadata": {
    "slideshow": {
     "slide_type": "fragment"
    }
   },
   "outputs": [],
   "source": [
    "# Multiplying a list\n",
    "my_list = [\"All\", \"Work\", \"And\", \"No\", \"Play\", \"Makes\", \"Alex\", \"A\", \"Dull\", \"Boy\"]\n",
    "new_list = my_list * 20\n",
    "print(new_list)"
   ]
  },
  {
   "cell_type": "markdown",
   "metadata": {
    "slideshow": {
     "slide_type": "fragment"
    }
   },
   "source": [
    "['All', 'Work', 'And', 'No', 'Play', 'Makes', 'Alex', 'A', 'Dull', 'Boy', 'All', 'Work', 'And', 'No', 'Play', 'Makes', 'Alex', 'A', 'Dull', 'Boy', 'All', 'Work', 'And', 'No', 'Play', 'Makes', 'Alex', 'A', 'Dull', 'Boy', 'All', 'Work', 'And', 'No', 'Play', 'Makes', 'Alex', 'A', 'Dull', 'Boy', 'All', 'Work', 'And', 'No', 'Play', 'Makes', 'Alex', 'A', 'Dull', 'Boy', 'All', 'Work', 'And', 'No', 'Play', 'Makes', 'Alex', 'A', 'Dull', 'Boy', 'All', 'Work', 'And', 'No', 'Play', 'Makes', 'Alex', 'A', 'Dull', 'Boy', 'All', 'Work', 'And', 'No', 'Play', 'Makes', 'Alex', 'A', 'Dull', 'Boy', 'All', 'Work', 'And', 'No', 'Play', 'Makes', 'Alex', 'A', 'Dull', 'Boy', 'All', 'Work', 'And', 'No', 'Play', 'Makes', 'Alex', 'A', 'Dull', 'Boy']"
   ]
  },
  {
   "cell_type": "code",
   "execution_count": 23,
   "metadata": {
    "slideshow": {
     "slide_type": "subslide"
    }
   },
   "outputs": [],
   "source": [
    "# Adding two lists\n",
    "list_one = [\"One\", \"Two\", \"Three\"]\n",
    "list_two = [4, 5, 6]\n",
    "new_list = list_one + list_two\n",
    "print(new_list)"
   ]
  },
  {
   "cell_type": "markdown",
   "metadata": {
    "slideshow": {
     "slide_type": "fragment"
    }
   },
   "source": [
    "['One', 'Two', 'Three', 4, 5, 6]"
   ]
  },
  {
   "cell_type": "markdown",
   "metadata": {
    "slideshow": {
     "slide_type": "slide"
    }
   },
   "source": [
    "### Append\n",
    "The **.append()** function provides us with an easy way of adding something to the end of our list."
   ]
  },
  {
   "cell_type": "code",
   "execution_count": 26,
   "metadata": {
    "slideshow": {
     "slide_type": "fragment"
    }
   },
   "outputs": [],
   "source": [
    "my_list = [1, 2 ,3 ,4]\n",
    "my_list.append(7) # Counting is hard\n",
    "print(my_list)"
   ]
  },
  {
   "cell_type": "markdown",
   "metadata": {
    "slideshow": {
     "slide_type": "fragment"
    }
   },
   "source": [
    "[1, 2, 3, 4, 7]"
   ]
  },
  {
   "cell_type": "markdown",
   "metadata": {
    "slideshow": {
     "slide_type": "slide"
    }
   },
   "source": [
    "### Strings as lists of characters\n",
    "Some of you may have found it strange that we can use the \"in\" function on strings as well as lists:"
   ]
  },
  {
   "cell_type": "code",
   "execution_count": 28,
   "metadata": {
    "slideshow": {
     "slide_type": "fragment"
    }
   },
   "outputs": [],
   "source": [
    "# Remember this?\n",
    "if \"a\" in \"alex\":\n",
    "    print(\"Yeehaa\")\n",
    "else:\n",
    "    print(\"Blargh >:(\")"
   ]
  },
  {
   "cell_type": "markdown",
   "metadata": {
    "slideshow": {
     "slide_type": "fragment"
    }
   },
   "source": [
    "Yeehaa"
   ]
  },
  {
   "cell_type": "markdown",
   "metadata": {
    "slideshow": {
     "slide_type": "subslide"
    }
   },
   "source": [
    "We know we can also do:"
   ]
  },
  {
   "cell_type": "code",
   "execution_count": 30,
   "metadata": {
    "slideshow": {
     "slide_type": "fragment"
    }
   },
   "outputs": [],
   "source": [
    "# What about\n",
    "if \"a\" in ['a','l','e','x']:\n",
    "    print(\"Strange\")\n",
    "else:\n",
    "    print(\"Don't be silly\")"
   ]
  },
  {
   "cell_type": "markdown",
   "metadata": {
    "slideshow": {
     "slide_type": "fragment"
    }
   },
   "source": [
    "Strange"
   ]
  },
  {
   "cell_type": "markdown",
   "metadata": {
    "slideshow": {
     "slide_type": "subslide"
    }
   },
   "source": [
    "Python essentially treats strings as lists of characters!"
   ]
  },
  {
   "cell_type": "code",
   "execution_count": 33,
   "metadata": {
    "slideshow": {
     "slide_type": "fragment"
    }
   },
   "outputs": [],
   "source": [
    "# Strings are a lists\n",
    "the_dream = \"desserts\"\n",
    "university = the_dream[::-1] # We can go backwards too!\n",
    "\n",
    "print(university)"
   ]
  },
  {
   "cell_type": "markdown",
   "metadata": {
    "slideshow": {
     "slide_type": "fragment"
    }
   },
   "source": [
    "stressed"
   ]
  },
  {
   "cell_type": "code",
   "execution_count": null,
   "metadata": {
    "slideshow": {
     "slide_type": "subslide"
    }
   },
   "outputs": [],
   "source": [
    "# So maybe...\n",
    "my_string = \"Luke is on a roll\"\n",
    "daily_mail_string = my_string[0:8] + my_string[11:13] + \"t\" + my_string[13:]\n",
    "print(daily_mail_string) # fake news"
   ]
  },
  {
   "cell_type": "markdown",
   "metadata": {
    "slideshow": {
     "slide_type": "fragment"
    }
   },
   "source": [
    "Luke is a troll"
   ]
  },
  {
   "cell_type": "markdown",
   "metadata": {
    "slideshow": {
     "slide_type": "slide"
    }
   },
   "source": [
    "# Program Flow Pt. II"
   ]
  },
  {
   "cell_type": "markdown",
   "metadata": {
    "slideshow": {
     "slide_type": "fragment"
    }
   },
   "source": [
    "## For loops\n",
    "**For** Is a control statement which allows us to do something **for** every item in a list."
   ]
  },
  {
   "cell_type": "markdown",
   "metadata": {
    "slideshow": {
     "slide_type": "fragment"
    }
   },
   "source": [
    "For example (heh):"
   ]
  },
  {
   "cell_type": "code",
   "execution_count": 52,
   "metadata": {
    "slideshow": {
     "slide_type": "fragment"
    }
   },
   "outputs": [],
   "source": [
    "# A simple for loop - runs 5 times!\n",
    "for counter in range(1, 6):\n",
    "    print(str(counter) + \" Cookie... Nom nom\" )"
   ]
  },
  {
   "cell_type": "markdown",
   "metadata": {
    "slideshow": {
     "slide_type": "fragment"
    }
   },
   "source": [
    "1 Cookie... Nom nom  \n",
    "2 Cookie... Nom nom  \n",
    "3 Cookie... Nom nom  \n",
    "4 Cookie... Nom nom  \n",
    "5 Cookie... Nom nom  "
   ]
  },
  {
   "cell_type": "markdown",
   "metadata": {
    "slideshow": {
     "slide_type": "slide"
    }
   },
   "source": [
    "### For loops <3 lists\n",
    "For loops allow us to access items from our lists and do stuff with them"
   ]
  },
  {
   "cell_type": "code",
   "execution_count": 58,
   "metadata": {
    "slideshow": {
     "slide_type": "fragment"
    }
   },
   "outputs": [],
   "source": [
    "# We can use for loops to get things directly from our list\n",
    "my_list = [\"Python\", \"classes\", \"ftw\"]\n",
    "\n",
    "for item in my_list:\n",
    "    print(item)"
   ]
  },
  {
   "cell_type": "markdown",
   "metadata": {
    "slideshow": {
     "slide_type": "fragment"
    }
   },
   "source": [
    "Python  \n",
    "classes  \n",
    "ftw  "
   ]
  },
  {
   "cell_type": "markdown",
   "metadata": {
    "slideshow": {
     "slide_type": "slide"
    }
   },
   "source": [
    "## Nesting\n",
    "We can put statements inside of each other, like we did with *if* in the past. "
   ]
  },
  {
   "cell_type": "code",
   "execution_count": 46,
   "metadata": {
    "slideshow": {
     "slide_type": "fragment"
    }
   },
   "outputs": [],
   "source": [
    "# We can also use if inside for\n",
    "# Print even numbers less than 10\n",
    "for i in range(0, 20):\n",
    "    if (i == 17): \n",
    "        print(str(i) + \" is the best number\")"
   ]
  },
  {
   "cell_type": "markdown",
   "metadata": {
    "slideshow": {
     "slide_type": "fragment"
    }
   },
   "source": [
    "17 is the best number"
   ]
  },
  {
   "cell_type": "code",
   "execution_count": 47,
   "metadata": {
    "scrolled": true,
    "slideshow": {
     "slide_type": "subslide"
    }
   },
   "outputs": [],
   "source": [
    "# Sometimes we might want to nest for loops\n",
    "for i in range(0,5):\n",
    "    row = []\n",
    "    for j in range(1, i + 2):\n",
    "        row.append(j)\n",
    "    print(row)"
   ]
  },
  {
   "cell_type": "markdown",
   "metadata": {
    "slideshow": {
     "slide_type": "fragment"
    }
   },
   "source": [
    "[1]  \n",
    "[1, 2]  \n",
    "[1, 2, 3]  \n",
    "[1, 2, 3, 4]  \n",
    "[1, 2, 3, 4, 5]  "
   ]
  },
  {
   "cell_type": "code",
   "execution_count": 48,
   "metadata": {
    "slideshow": {
     "slide_type": "subslide"
    }
   },
   "outputs": [],
   "source": [
    "# Beware! There's often a cleaner / faster way\n",
    "for i in range(0,5):\n",
    "    row = range(1, i+2)\n",
    "    print(list(row))"
   ]
  },
  {
   "cell_type": "markdown",
   "metadata": {
    "slideshow": {
     "slide_type": "fragment"
    }
   },
   "source": [
    "[1]  \n",
    "[1, 2]  \n",
    "[1, 2, 3]  \n",
    "[1, 2, 3, 4]  \n",
    "[1, 2, 3, 4, 5]  "
   ]
  },
  {
   "cell_type": "code",
   "execution_count": 50,
   "metadata": {
    "slideshow": {
     "slide_type": "skip"
    }
   },
   "outputs": [],
   "source": [
    "# Another example - a duplicate search\n",
    "sentence = ['She', 'sells', 'sea', 'shells', 'on', 'the', 'sea', 'shore']\n",
    "\n",
    "for i in range(len(sentence)):\n",
    "    for j in range(len(sentence)):\n",
    "        if i == j: # Don't compare to yourself\n",
    "            continue\n",
    "        elif(sentence[i] == sentence[j]):\n",
    "            print(sentence[i] + \" is duplicated!\")"
   ]
  },
  {
   "cell_type": "markdown",
   "metadata": {
    "slideshow": {
     "slide_type": "slide"
    }
   },
   "source": [
    "# FEEDBACK\n",
    "PLEASE FILL OUT THE FEEDBACK FORM AT http://bit.ly/uompythonclass, THANK YOU"
   ]
  },
  {
   "cell_type": "code",
   "execution_count": 2,
   "metadata": {
    "scrolled": true,
    "slideshow": {
     "slide_type": "fragment"
    }
   },
   "outputs": [],
   "source": [
    "for i in range(10):\n",
    "    print(\"THANK YOU :D\")"
   ]
  },
  {
   "cell_type": "markdown",
   "metadata": {
    "slideshow": {
     "slide_type": "fragment"
    }
   },
   "source": [
    "THANK YOU :D  \n",
    "THANK YOU :D  \n",
    "THANK YOU :D  \n",
    "THANK YOU :D  \n",
    "THANK YOU :D  \n",
    "THANK YOU :D  \n",
    "THANK YOU :D  \n",
    "THANK YOU :D  \n",
    "THANK YOU :D  \n",
    "THANK YOU :D  "
   ]
  },
  {
   "cell_type": "markdown",
   "metadata": {
    "slideshow": {
     "slide_type": "skip"
    }
   },
   "source": [
    "# More Useful Functions\n",
    "Lists are very useful datastructures, and thus there are a bunch of in-built python functions which allow us manipulate lists in varied ways. A few of the most useful for our purposes are listed here (you can use these to streamline the solutions to many of our exercises!)"
   ]
  },
  {
   "cell_type": "markdown",
   "metadata": {
    "slideshow": {
     "slide_type": "skip"
    }
   },
   "source": [
    "### Split\n",
    "**split()** is a function which allows us to break up strings into sub-strings stored in a list\n"
   ]
  },
  {
   "cell_type": "code",
   "execution_count": 4,
   "metadata": {
    "slideshow": {
     "slide_type": "skip"
    }
   },
   "outputs": [],
   "source": [
    "# Example of split()\n",
    "my_sentence = \"I am too lazy to make sentences into lists\"\n",
    "my_list = my_sentence.split(\" \") # Split up string by empty spaces\n",
    "\n",
    "print(my_list)"
   ]
  },
  {
   "cell_type": "markdown",
   "metadata": {
    "slideshow": {
     "slide_type": "skip"
    }
   },
   "source": [
    "['I','am', 'too', 'lazy', 'to', 'make', 'sentences', 'into', 'lists']"
   ]
  },
  {
   "cell_type": "markdown",
   "metadata": {
    "slideshow": {
     "slide_type": "skip"
    }
   },
   "source": [
    "### Join\n",
    "**join()** is essentially the opposite of split, and allows us to nicely format our lists when we want to print them"
   ]
  },
  {
   "cell_type": "code",
   "execution_count": 8,
   "metadata": {
    "slideshow": {
     "slide_type": "skip"
    }
   },
   "outputs": [],
   "source": [
    "# Example of join()\n",
    "# NOTE: all items in the list must be strings - unless you do something clever! ;)\n",
    "my_list = [\"I'm\", \"12\", \"now\", \"mum\", \"I\", \"can\", \"do\", \"what\", \"I\", \"want\"]\n",
    "my_sentence = \" \".join(my_list) # Join items in list with an empty space\n",
    "\n",
    "print(my_sentence)"
   ]
  },
  {
   "cell_type": "markdown",
   "metadata": {
    "slideshow": {
     "slide_type": "skip"
    }
   },
   "source": [
    "I'm 12 now mum I can do what I want"
   ]
  },
  {
   "cell_type": "markdown",
   "metadata": {
    "slideshow": {
     "slide_type": "skip"
    }
   },
   "source": [
    "### Replace\n",
    "The **.replace()** function allows us to replace substrings with other substrings of our choice"
   ]
  },
  {
   "cell_type": "code",
   "execution_count": 32,
   "metadata": {
    "slideshow": {
     "slide_type": "skip"
    }
   },
   "outputs": [],
   "source": [
    "# Example of replace\n",
    "# string.replace(\"what to replace\", \"replace with\")\n",
    "my_string = \"5, 6, 7, 8, Who do we hate? Alex!\"\n",
    "my_string = my_string.replace(\"hate\", \"appreciate\") \n",
    "\n",
    "print(my_string) # Much better!"
   ]
  },
  {
   "cell_type": "markdown",
   "metadata": {
    "slideshow": {
     "slide_type": "skip"
    }
   },
   "source": [
    "5, 6, 7, 8, Who do we appreciate? Alex!"
   ]
  },
  {
   "cell_type": "markdown",
   "metadata": {
    "slideshow": {
     "slide_type": "skip"
    }
   },
   "source": [
    "### Min and Max\n",
    "**min()** and **max()** do what you'd expect - So long as you have numbers in the list; string comparison is a bit less straightforward"
   ]
  },
  {
   "cell_type": "code",
   "execution_count": 17,
   "metadata": {
    "slideshow": {
     "slide_type": "skip"
    }
   },
   "outputs": [],
   "source": [
    "my_numbers = list(range(5,25))\n",
    "print(max(my_numbers))\n",
    "print(min(my_numbers))"
   ]
  },
  {
   "cell_type": "markdown",
   "metadata": {
    "slideshow": {
     "slide_type": "skip"
    }
   },
   "source": [
    "24  \n",
    "5"
   ]
  },
  {
   "cell_type": "markdown",
   "metadata": {
    "slideshow": {
     "slide_type": "skip"
    }
   },
   "source": [
    "### Sort\n",
    "Under the hood, min() and max() work by sorting the list first. We can do this manually by using **.sort()**"
   ]
  },
  {
   "cell_type": "code",
   "execution_count": 24,
   "metadata": {
    "slideshow": {
     "slide_type": "skip"
    }
   },
   "outputs": [],
   "source": [
    "# Example of sorting\n",
    "# NOTE: don't mix strings and numbers if you want to sort!\n",
    "my_list = [4, 7, -20, 32, 9.3] \n",
    "my_list.sort() # This sorts the list\n",
    "\n",
    "print(my_list)"
   ]
  },
  {
   "cell_type": "markdown",
   "metadata": {
    "slideshow": {
     "slide_type": "skip"
    }
   },
   "source": [
    "[-20, 4, 7, 9.3, 32]"
   ]
  }
 ],
 "metadata": {
  "celltoolbar": "Slideshow",
  "kernelspec": {
   "display_name": "Python 3",
   "language": "python",
   "name": "python3"
  },
  "language_info": {
   "codemirror_mode": {
    "name": "ipython",
    "version": 3
   },
   "file_extension": ".py",
   "mimetype": "text/x-python",
   "name": "python",
   "nbconvert_exporter": "python",
   "pygments_lexer": "ipython3",
   "version": "3.6.6"
  }
 },
 "nbformat": 4,
 "nbformat_minor": 2
}
