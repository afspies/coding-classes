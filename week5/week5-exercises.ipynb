{
 "cells": [
  {
   "cell_type": "markdown",
   "metadata": {},
   "source": [
    "# Week 5 Exercises\n",
    "## List manipulation\n",
    "### List slicing\n",
    "Using the **range()** function, create a list containing all numbers less than 50. Then use list slicing (not the % operator!) to:\n",
    "* Print all even numbers less than 50\n",
    "* Print all multiples of 5 less than 50\n",
    "\n",
    "#### Extension\n",
    "Creating a list of multiples this way is wasteful, as we're throwing away a bunch of numbers (e.g. 1,2,3,4;6,7,8,9... are all useless). Using a **for** loop, create a list of multiples of 5 directly.\n",
    "\n",
    "### Forced Anagrams \n",
    "(Skip this if you did the Pascal's Triangle reading week challenge)\n",
    "\n",
    "Take a word from the user, and then print an anagrammed version of the word.\n",
    "    * E.g. \"fish\" -> \"fishsif\"\n",
    "\n",
    "\n",
    "\n",
    "## \"Fun\" with strings\n",
    "### Goat Latin\n",
    "Implement goat latin (a made up version of english [this is a facebook interview question!]), such that a user can input a normal english sentence, and your program returns the goatified version:\n",
    "\n",
    "1. If a word begins with a vowel, append \"ma\" to the end of the word.\n",
    "    * \"apple\" becomes \"applema\"\n",
    " \n",
    "2. If a word begins with a consonant (i.e. not a vowel), remove the first letter and append it to the end, then add \"ma\".\n",
    "    * \"goat\" becomes \"oatgma\"\n",
    " \n",
    "3. Add one letter 'a' to the end of each word per its word index in the sentence, starting with 1.\n",
    "    * Example, the first word gets \"a\" added to the end, the second word gets \"aa\" added to the end and so on.\n",
    "    \n",
    "**Note:** you may find the following list useful:\n",
    "\n",
    "* vowels = ['a', 'e', 'i', 'o', 'u']\n",
    "\n",
    "## For loops\n",
    "### Hip to be Square\n",
    "Take a number N from the user, and print a square of dimension NxN using characters 'X'\n",
    "#### Extension 1\n",
    "Implement this solution using string manipulation instead of nested for loops (if you already did this, great!)\n",
    "#### Extension 2\n",
    "Print a \"hollow\" square (i.e. only the edges are X\""
   ]
  },
  {
   "cell_type": "code",
   "execution_count": null,
   "metadata": {},
   "outputs": [],
   "source": []
  }
 ],
 "metadata": {
  "kernelspec": {
   "display_name": "Python 3",
   "language": "python",
   "name": "python3"
  },
  "language_info": {
   "codemirror_mode": {
    "name": "ipython",
    "version": 3
   },
   "file_extension": ".py",
   "mimetype": "text/x-python",
   "name": "python",
   "nbconvert_exporter": "python",
   "pygments_lexer": "ipython3",
   "version": "3.6.6"
  }
 },
 "nbformat": 4,
 "nbformat_minor": 2
}
